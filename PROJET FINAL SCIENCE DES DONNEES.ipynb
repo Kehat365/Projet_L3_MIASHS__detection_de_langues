{
 "cells": [
  {
   "cell_type": "markdown",
   "metadata": {},
   "source": [
    "# <center><b> Projet : Détection de langues <b><center>"
   ]
  },
  {
   "cell_type": "markdown",
   "metadata": {},
   "source": [
    "Auteurs : ABOKY Rimey, TOKANNOU Charen Kéhat"
   ]
  },
  {
   "cell_type": "markdown",
   "metadata": {},
   "source": [
    "## <b>Première étape :</b> Création et exploration d'un ensemble de données\n",
    "\n",
    "<b>Création d'un ensemble de données</b>\n",
    "\n",
    "En utilisant les outils vus en cours, nous collecterons des textes dans au moins 3 langues différentes.\n",
    "\n",
    "<b>Exploration des données</b>\n",
    "\n",
    "Une première hypothèse que l'on peut formuler est la suivante:\n",
    "\n",
    "Hypothèse: La distribution des caractères varie d'une langue à l'autre.\n",
    "\n",
    "Si cette hypothèse se vérifie on pourra s'en servir pour faire de la détection de langues. \n",
    "\n",
    "Nous ferons donc de l'exploration de données pour tester cette hypothèse."
   ]
  },
  {
   "cell_type": "markdown",
   "metadata": {},
   "source": [
    "### Création d'un ensemble de données"
   ]
  },
  {
   "cell_type": "markdown",
   "metadata": {},
   "source": [
    "Nous avons choisi de travailler sur l'italien, l'anglais et le français. Ce choix est motivé par le fait que les alphabets de ces trois langues sont basés sur des variations très proches de l'alphabet latin. Pour chacune des trois langues, nous avons choisi de collecter le texte d'articles publiés sur Wikipédia. Ainsi,  \n",
    "- pour l'italien, nous travaillerons sur un article qui raconte la vie de Benito Mussolini  \n",
    "- pour l'anglais, nous travaillerons sur un article qui relate la vie de John F. Kennedy  \n",
    "- pour le français, nous travaillerons sur l'article qui retrace la vie du Général Charles de Gaulle."
   ]
  },
  {
   "cell_type": "code",
   "execution_count": 164,
   "metadata": {},
   "outputs": [],
   "source": [
    "# URL des pages à scraper\n",
    "URL_it = \"https://it.wikipedia.org/wiki/Benito_Mussolini\"           # Italien\n",
    "URL_en = \"https://en.wikipedia.org/wiki/John_F._Kennedy\"            # Anglais\n",
    "URL_fr = \"https://fr.wikipedia.org/wiki/Charles_de_Gaulle\"          # Français"
   ]
  },
  {
   "cell_type": "code",
   "execution_count": 165,
   "metadata": {},
   "outputs": [],
   "source": [
    "import requests                                                     # Librairie permettant d'utiliser le protocole HTTP\n",
    "from bs4 import BeautifulSoup                                       # Librairie permettant de collecter les données à partir de pages web"
   ]
  },
  {
   "cell_type": "code",
   "execution_count": 166,
   "metadata": {},
   "outputs": [],
   "source": [
    "def get_text(url: str, taille: int):\n",
    "    \"\"\"\n",
    "    Permet d'obtenir des paragraphes du texte principal d'une page wikipédia.\n",
    "\n",
    "    Prend en arguments : \n",
    "    url (str): Le lien vers la page à scraper pour obtenir le texte.\n",
    "    taille (int): le nombre de paragraphes à collecter.\n",
    "\n",
    "    Retourne \n",
    "    Une liste de paragraphes.\n",
    "    \"\"\"\n",
    "    page = requests.get(url)\n",
    "    soup = BeautifulSoup(page.content, \"html.parser\")\n",
    "    results = soup.find(id=\"mw-content-text\")\n",
    "    paragrs = []\n",
    "    for par in results.find_all(\"p\")[0:taille]:\n",
    "        paragrs.append(par.text)\n",
    "    return paragrs"
   ]
  },
  {
   "cell_type": "code",
   "execution_count": 167,
   "metadata": {},
   "outputs": [
    {
     "name": "stdout",
     "output_type": "stream",
     "text": [
      "Benito Amilcare Andrea Mussolini (Dovia di Predappio, 29 luglio 1883 – Giulino di Mezzegra, 28 aprile 1945) è stato un politico, militare e giornalista italiano.\n",
      "\n",
      "John Fitzgerald Kennedy (May 29, 1917 – November 22, 1963), often referred to by his initials JFK, was an American politician who served as the 35th president of the United States from 1961 until 1963. He was the youngest person to assume the presidency by election and the youngest president at the end of his tenure.[2] Kennedy served at the height of the Cold War, and the majority of his foreign policy concerned communist states such as the Soviet Union and Cuba. A Democrat, Kennedy represented Massachusetts in both houses of the U.S. Congress prior to his presidency.\n",
      "\n",
      "Charles de Gaulle (/ʃaʁl də ɡol/[n 2] Écouter), communément appelé le général de Gaulle ou parfois simplement le Général, né le 22 novembre 1890 à Lille (Nord) et mort le 9 novembre 1970 à Colombey-les-Deux-Églises (Haute-Marne), est un militaire, résistant, homme d'État et écrivain français.\n",
      "\n"
     ]
    }
   ],
   "source": [
    "# Collecte des textes dans les différentes langues\n",
    "paragrs_it = get_text(URL_it, 14)                                   # Italien\n",
    "print(paragrs_it[0])\n",
    "\n",
    "paragrs_en = get_text(URL_en, 10)                                   # Anglais\n",
    "print(paragrs_en[1])\n",
    "\n",
    "paragrs_fr = get_text(URL_fr, 14)                                   # Français\n",
    "print(paragrs_fr[3])"
   ]
  },
  {
   "cell_type": "markdown",
   "metadata": {},
   "source": [
    "### Nettoyage des données\n",
    "\n",
    "Avant de procéder à l'exploration des données, il est nécessaire de procéder au nettoyage. En effet, pour le moment, nous avons juste collecté du texte sur des pages Wikipédia en différentes langues. En observant le texte collecté, nous remarquons qu'il contient des dates, des balises et des caractères spéciaux."
   ]
  },
  {
   "cell_type": "code",
   "execution_count": 168,
   "metadata": {},
   "outputs": [],
   "source": [
    "import re                                                           # Librairie regex permettant de manipuler les expressions régulières dans du texte"
   ]
  },
  {
   "cell_type": "code",
   "execution_count": 169,
   "metadata": {},
   "outputs": [],
   "source": [
    "def set_forme(paragr):\n",
    "    \"\"\"\n",
    "    Permet de mettre en forme le texte collecté pour l'analyse.\n",
    "\n",
    "    Prend en arguments : \n",
    "    paragr: Une liste ou une chaine de caractères\n",
    "\n",
    "    Retourne \n",
    "    Une liste de tous les caractères alphabétiques contenus dans l'entrée.\n",
    "    \"\"\"\n",
    "    caract_1 = []\n",
    "    for i in paragr:\n",
    "        caract_1.append(re.findall(r\"\\w\", i))\n",
    "    \n",
    "    caract_2 = []\n",
    "    for i in caract_1:\n",
    "        for j in i:\n",
    "            caract_2.append(re.findall(r\"\\D\", j))\n",
    "\n",
    "    caract_3 = []\n",
    "    for i in caract_2:\n",
    "        for j in i:\n",
    "            caract_3.append(j.lower())\n",
    "\n",
    "    return caract_3"
   ]
  },
  {
   "cell_type": "code",
   "execution_count": 170,
   "metadata": {},
   "outputs": [
    {
     "name": "stdout",
     "output_type": "stream",
     "text": [
      "['b', 'e', 'n', 'i', 't', 'o', 'a', 'm', 'i', 'l', 'c', 'a', 'r', 'e', 'a', 'n', 'd', 'r', 'e', 'a', 'm', 'u', 's', 's', 'o', 'l', 'i', 'n', 'i', 'd', 'o', 'v', 'i', 'a', 'd', 'i', 'p', 'r', 'e', 'd', 'a', 'p', 'p', 'i']\n",
      "['j', 'o', 'h', 'n', 'f', 'i', 't', 'z', 'g', 'e', 'r', 'a', 'l', 'd', 'k', 'e', 'n', 'n', 'e', 'd', 'y', 'm', 'a', 'y', 'n', 'o', 'v', 'e', 'm', 'b', 'e', 'r', 'o', 'f', 't', 'e', 'n', 'r', 'e', 'f', 'e', 'r', 'r', 'e']\n",
      "['p', 'o', 'u', 'r', 'l', 'e', 's', 'a', 'r', 't', 'i', 'c', 'l', 'e', 's', 'h', 'o', 'm', 'o', 'n', 'y', 'm', 'e', 's', 'v', 'o', 'i', 'r', 'c', 'h', 'a', 'r', 'l', 'e', 's', 'd', 'e', 'g', 'a', 'u', 'l', 'l', 'e', 'h']\n"
     ]
    }
   ],
   "source": [
    "# Liste des caractères alphabétiques présents dans les textes sélectionnés.\n",
    "lst_caract_it = set_forme(paragrs_it)                               #Italien\n",
    "print(lst_caract_it[0: 44])\n",
    "\n",
    "lst_caract_en = set_forme(paragrs_en)                               #Anglais\n",
    "print(lst_caract_en[0: 44])\n",
    "\n",
    "lst_caract_fr = set_forme(paragrs_fr)                               # Français\n",
    "print(lst_caract_fr[0: 44])"
   ]
  },
  {
   "cell_type": "markdown",
   "metadata": {},
   "source": [
    "Afin de vérifier l'hypothèse selon laquelle la distribution des caractères varie d'une langue à une autre, nous identifierons d'abord les différents caractères utilisés dans chaque langue et le nombre d'occurences de chaque caractère. "
   ]
  },
  {
   "cell_type": "code",
   "execution_count": 171,
   "metadata": {},
   "outputs": [],
   "source": [
    "def get_count_caract(dt_lake: list):\n",
    "    \"\"\"\n",
    "    Permet de compter le nombre d'occurence de chaque élément d'une liste.\n",
    "\n",
    "    Prend en arguments : \n",
    "    dt_lake: Une liste de caractères (avec répétitions).\n",
    "\n",
    "    Retourne \n",
    "    Un dictionnaire avec en clé les éléments distincts de la liste (ordnnés du plus au moins fréquent) et en valeurs leurs nombres respectifs d'occurrence.\n",
    "    \"\"\"\n",
    "    pre_compte = dict()\n",
    "    compte = dict()\n",
    "    for caractere in dt_lake:\n",
    "        if caractere not in compte.keys():\n",
    "            pre_compte[caractere] = dt_lake.count(caractere)\n",
    "    for i, j in sorted(pre_compte.items(), key=lambda x: x[1], reverse=True):\n",
    "        compte[i] = j\n",
    "    return compte"
   ]
  },
  {
   "cell_type": "code",
   "execution_count": 172,
   "metadata": {},
   "outputs": [
    {
     "name": "stdout",
     "output_type": "stream",
     "text": [
      "Italien: \n",
      " {'i': 775, 'a': 761, 'e': 705, 'o': 593, 'l': 491, 'n': 484, 't': 427, 'r': 411, 's': 359, 'd': 272, 'c': 254, 'u': 188, 'p': 179, 'm': 173, 'g': 113, 'v': 106, 'f': 79, 'z': 62, 'b': 58, 'ò': 26, 'q': 20, 'h': 19, 'à': 8, 'ì': 7, 'è': 4, 'j': 1, 'á': 1, 'x': 1, 'ù': 1}\n",
      "Anglais: \n",
      " {'e': 775, 't': 523, 'a': 502, 'n': 497, 's': 457, 'o': 455, 'i': 440, 'r': 400, 'h': 329, 'd': 283, 'l': 249, 'c': 195, 'u': 146, 'm': 138, 'f': 134, 'p': 123, 'y': 113, 'b': 112, 'w': 97, 'g': 90, 'k': 63, 'v': 58, 'j': 32, 'z': 13, 'x': 9, 'q': 2, 'é': 1}\n",
      "Français: \n",
      " {'e': 969, 'i': 583, 'a': 579, 'n': 532, 'l': 500, 'r': 497, 's': 461, 't': 458, 'u': 359, 'o': 330, 'd': 292, 'p': 208, 'c': 196, 'm': 185, 'é': 180, 'f': 103, 'g': 102, 'v': 66, 'h': 57, 'b': 52, 'q': 50, 'à': 38, 'è': 28, 'j': 23, 'y': 20, 'x': 16, 'ç': 14, 'ê': 7, 'î': 5, 'ô': 4, 'ù': 3, 'w': 2, 'â': 2, 'ʃ': 1, 'ʁ': 1, 'ə': 1, 'ɡ': 1, 'z': 1, 'k': 1, 'ë': 1}\n"
     ]
    }
   ],
   "source": [
    "# Ensemble de caractères présents dans chaque texte avec leurs nombres d'occurence.\n",
    "dict_it = get_count_caract(lst_caract_it)                           # Italien\n",
    "print(f\"Italien: \\n\", dict_it)\n",
    "\n",
    "dict_en = get_count_caract(lst_caract_en)                           # Anglais\n",
    "print(f\"Anglais: \\n\", dict_en)\n",
    "\n",
    "dict_fr = get_count_caract(lst_caract_fr)                           # Français\n",
    "print(f\"Français: \\n\", dict_fr)"
   ]
  },
  {
   "cell_type": "code",
   "execution_count": 173,
   "metadata": {},
   "outputs": [],
   "source": [
    "def get_freq_caract(dt_lake: list, caract=None):\n",
    "    \"\"\"\n",
    "    Permet d'obtenir la fréquence d'occurence de chaque élément d'une liste.\n",
    "\n",
    "    Prend en arguments : \n",
    "    dt_lake: Une liste de caractères (avec répétitions).\n",
    "    caract (list): Une liste des elements dont on veut la fréquence. Si caract est None,\n",
    "    obtenir la fréquence pour tous les caractères.\n",
    "\n",
    "    Retourne \n",
    "    Un dictionnaire avec en clé les éléments de la liste (ordnnés du plus au moins fréquent) et en valeurs leurs fréquences respectives d'occurrence.\n",
    "    \"\"\"\n",
    "    if caract is None:\n",
    "        freq_dict = dict()\n",
    "    else:\n",
    "        freq_dict = dict()\n",
    "        for k in caract:\n",
    "            freq_dict[k] = 0\n",
    "    dico = get_count_caract(dt_lake)\n",
    "    for i, j in dico.items():\n",
    "        freq_dict[i] = (j*100//len(dt_lake))\n",
    "    return freq_dict"
   ]
  },
  {
   "cell_type": "code",
   "execution_count": 174,
   "metadata": {},
   "outputs": [
    {
     "name": "stdout",
     "output_type": "stream",
     "text": [
      "Italien: \n",
      " {'i': 11, 'a': 11, 'e': 10, 'o': 9, 'l': 7, 'n': 7, 't': 6, 'r': 6, 's': 5, 'd': 4, 'c': 3, 'u': 2, 'p': 2, 'm': 2, 'g': 1, 'v': 1, 'f': 1, 'z': 0, 'b': 0, 'ò': 0, 'q': 0, 'h': 0, 'à': 0, 'ì': 0, 'è': 0, 'j': 0, 'á': 0, 'x': 0, 'ù': 0}\n",
      "Anglais: \n",
      " {'e': 12, 't': 8, 'a': 8, 'n': 7, 's': 7, 'o': 7, 'i': 7, 'r': 6, 'h': 5, 'd': 4, 'l': 3, 'c': 3, 'u': 2, 'm': 2, 'f': 2, 'p': 1, 'y': 1, 'b': 1, 'w': 1, 'g': 1, 'k': 1, 'v': 0, 'j': 0, 'z': 0, 'x': 0, 'q': 0, 'é': 0}\n",
      "Français: \n",
      " {'e': 13, 'i': 8, 'a': 8, 'n': 7, 'l': 7, 'r': 7, 's': 6, 't': 6, 'u': 5, 'o': 4, 'd': 4, 'p': 3, 'c': 2, 'm': 2, 'é': 2, 'f': 1, 'g': 1, 'v': 0, 'h': 0, 'b': 0, 'q': 0, 'à': 0, 'è': 0, 'j': 0, 'y': 0, 'x': 0, 'ç': 0, 'ê': 0, 'î': 0, 'ô': 0, 'ù': 0, 'w': 0, 'â': 0, 'ʃ': 0, 'ʁ': 0, 'ə': 0, 'ɡ': 0, 'z': 0, 'k': 0, 'ë': 0}\n"
     ]
    }
   ],
   "source": [
    "# Ensemble de caractères présents dans chaque texte avec leurs fréquences d'apparition.\n",
    "fq_dict_it = get_freq_caract(lst_caract_it)                         # Italien\n",
    "print(f\"Italien: \\n\", fq_dict_it)\n",
    "\n",
    "fq_dict_en = get_freq_caract(lst_caract_en)                         # Anglais\n",
    "print(f\"Anglais: \\n\", fq_dict_en)\n",
    "\n",
    "fq_dict_fr = get_freq_caract(lst_caract_fr)                         # Français\n",
    "print(f\"Français: \\n\", fq_dict_fr)"
   ]
  },
  {
   "cell_type": "markdown",
   "metadata": {},
   "source": [
    "### Exploration des données\n",
    "Nous remarquons déjà certaines différences entre les langues en observant les fréquences d'apparition des caractères. Par exemple, en italien le \"i\" est le caractère le pus fréquent suivi de près par la lettre \"a\". En anglais par contre les lettres \"i\" et \"a\" sont respectivement le septième et le troisième caractère le plus fréquent. Représentonns graphiquement les distributions afin de mieux observer l'importance des différences entre les différentes langues."
   ]
  },
  {
   "cell_type": "markdown",
   "metadata": {},
   "source": [
    "Avant cela agrégeons les fréquences d'occurrence des caractères dans chaque langue dans un dataframe afin de faciliter la manipulation des données"
   ]
  },
  {
   "cell_type": "code",
   "execution_count": 175,
   "metadata": {},
   "outputs": [],
   "source": [
    "import pandas as pd                                                 # Librairie permettant la manipulation et l'analyse des données\n",
    "import matplotlib.pyplot as plt                                     # Librairie matplotlib pour la data visualization"
   ]
  },
  {
   "cell_type": "code",
   "execution_count": 176,
   "metadata": {},
   "outputs": [
    {
     "name": "stdout",
     "output_type": "stream",
     "text": [
      "           i   a   e  o  l  n  t  r  s  d  ...    ç    ê    î    ô    â    ʃ  \\\n",
      "Italien   11  11  10  9  7  7  6  6  5  4  ...  NaN  NaN  NaN  NaN  NaN  NaN   \n",
      "Anglais    7   8  12  7  3  7  8  6  7  4  ...  NaN  NaN  NaN  NaN  NaN  NaN   \n",
      "Francais   8   8  13  4  7  7  6  7  6  4  ...  0.0  0.0  0.0  0.0  0.0  0.0   \n",
      "\n",
      "            ʁ    ə    ɡ    ë  \n",
      "Italien   NaN  NaN  NaN  NaN  \n",
      "Anglais   NaN  NaN  NaN  NaN  \n",
      "Francais  0.0  0.0  0.0  0.0  \n",
      "\n",
      "[3 rows x 43 columns]\n"
     ]
    }
   ],
   "source": [
    "# Dataframe des fréquences d'apparition de chaque caractère par langue.\n",
    "dico_list = [fq_dict_it, fq_dict_en, fq_dict_fr]\n",
    "df=pd.DataFrame(dico_list, index = [\"Italien\", \"Anglais\", \"Francais\"])\n",
    "print(df)"
   ]
  },
  {
   "cell_type": "code",
   "execution_count": 177,
   "metadata": {},
   "outputs": [
    {
     "name": "stdout",
     "output_type": "stream",
     "text": [
      "           i   a   e  o  l  n  t  r  s  d  ...  m  g  v  f  z  b  q  h  j  x\n",
      "Italien   11  11  10  9  7  7  6  6  5  4  ...  2  1  1  1  0  0  0  0  0  0\n",
      "Anglais    7   8  12  7  3  7  8  6  7  4  ...  2  1  0  2  0  1  0  5  0  0\n",
      "Francais   8   8  13  4  7  7  6  7  6  4  ...  2  1  0  1  0  0  0  0  0  0\n",
      "\n",
      "[3 rows x 23 columns]\n"
     ]
    }
   ],
   "source": [
    "# Réduction du dataframe aux caractères qui apparaissent au moins une fois dans chaque texte.\n",
    "caract_rares = [col for col in df.columns if df[col].isnull().any()]\n",
    "df.drop(caract_rares, axis=1, inplace=True)\n",
    "print(df)"
   ]
  },
  {
   "cell_type": "code",
   "execution_count": 178,
   "metadata": {},
   "outputs": [
    {
     "name": "stdout",
     "output_type": "stream",
     "text": [
      "['a', 'b', 'c', 'd', 'e', 'f', 'g', 'h', 'i', 'j', 'l', 'm', 'n', 'o', 'p', 'q', 'r', 's', 't', 'u', 'v', 'x', 'z']\n"
     ]
    }
   ],
   "source": [
    "# Liste des caractères présents dans les trois langues\n",
    "caract = df.columns.tolist()\n",
    "caract.sort()\n",
    "print(caract)"
   ]
  },
  {
   "cell_type": "code",
   "execution_count": 179,
   "metadata": {},
   "outputs": [
    {
     "name": "stdout",
     "output_type": "stream",
     "text": [
      "           a  b  c  d   e  f  g  h   i  j  ...  o  p  q  r  s  t  u  v  x  z\n",
      "Italien   11  0  3  4  10  1  1  0  11  0  ...  9  2  0  6  5  6  2  1  0  0\n",
      "Anglais    8  1  3  4  12  2  1  5   7  0  ...  7  1  0  6  7  8  2  0  0  0\n",
      "Francais   8  0  2  4  13  1  1  0   8  0  ...  4  3  0  7  6  6  5  0  0  0\n",
      "\n",
      "[3 rows x 23 columns]\n"
     ]
    }
   ],
   "source": [
    "# Réorganisation des colonnes du dataframe dans l'ordre alphabétique\n",
    "df = df[caract]\n",
    "print(df)"
   ]
  },
  {
   "cell_type": "code",
   "execution_count": 180,
   "metadata": {},
   "outputs": [
    {
     "data": {
      "text/plain": [
       "<BarContainer object of 23 artists>"
      ]
     },
     "execution_count": 180,
     "metadata": {},
     "output_type": "execute_result"
    },
    {
     "data": {
      "image/png": "[encoded data removed]",
      "text/plain": [
       "<Figure size 640x480 with 1 Axes>"
      ]
     },
     "metadata": {},
     "output_type": "display_data"
    }
   ],
   "source": [
    "# Représentation graphique de la fréquence d'apparition des caractères en Italien\n",
    "plt.bar(caract, df.loc[\"Italien\"], alpha=0.5, color='g')"
   ]
  },
  {
   "cell_type": "code",
   "execution_count": 181,
   "metadata": {},
   "outputs": [
    {
     "data": {
      "text/plain": [
       "<BarContainer object of 23 artists>"
      ]
     },
     "execution_count": 181,
     "metadata": {},
     "output_type": "execute_result"
    },
    {
     "data": {
      "image/png": "[encoded data removed]",
      "text/plain": [
       "<Figure size 640x480 with 1 Axes>"
      ]
     },
     "metadata": {},
     "output_type": "display_data"
    }
   ],
   "source": [
    "# Représentation graphique de la fréquence d'apparition des caractères en Anglais\n",
    "plt.bar(caract, df.loc[\"Anglais\"], alpha=0.5, color='b')"
   ]
  },
  {
   "cell_type": "code",
   "execution_count": 182,
   "metadata": {},
   "outputs": [
    {
     "data": {
      "text/plain": [
       "<BarContainer object of 23 artists>"
      ]
     },
     "execution_count": 182,
     "metadata": {},
     "output_type": "execute_result"
    },
    {
     "data": {
      "image/png": "[encoded data removed]",
      "text/plain": [
       "<Figure size 640x480 with 1 Axes>"
      ]
     },
     "metadata": {},
     "output_type": "display_data"
    }
   ],
   "source": [
    "# Représentation graphique de la fréquence d'apparition des caractères en Français\n",
    "plt.bar(caract, df.loc[\"Francais\"], alpha=0.5, color='r')"
   ]
  },
  {
   "cell_type": "code",
   "execution_count": 183,
   "metadata": {},
   "outputs": [
    {
     "data": {
      "image/png": "[encoded data removed]",
      "text/plain": [
       "<Figure size 640x480 with 1 Axes>"
      ]
     },
     "metadata": {},
     "output_type": "display_data"
    }
   ],
   "source": [
    "# Superposition des trois graphiques précédents\n",
    "plt.bar(caract, df.loc[\"Italien\"], alpha=0.5, color='g')\n",
    "plt.bar(caract, df.loc[\"Anglais\"], alpha=0.5, color='b')\n",
    "plt.bar(caract, df.loc[\"Francais\"], alpha=0.5, color='r')\n",
    "plt.legend([\"Italien\", \"Anglais\", \"Français\"])\n",
    "plt.show()"
   ]
  },
  {
   "cell_type": "markdown",
   "metadata": {},
   "source": [
    "Nous remarquons clairement en superposant les graphiques que les propotions de chaque caractère dans les langues sont différentes."
   ]
  },
  {
   "attachments": {},
   "cell_type": "markdown",
   "metadata": {},
   "source": [
    "Cela permet de confirmer l'hypothèse selon laquelle la distribtion des caractères varie d'une ditribution à une autre."
   ]
  },
  {
   "cell_type": "markdown",
   "metadata": {},
   "source": [
    "## <b>Deuxième étape :</b> Modélisation sous la forme d'un problème de classification :\n",
    "\n",
    "<b>Choix de la représentation des données</b>\n",
    "\n",
    "Nous réaliserons une analyse discriminante afin de choisir d caractères parmi les plus fréquents et les plus discriminants pour représenter les fragments de textes par des vecteurs dans Rd.\n",
    "\n",
    "<b>Constitution d'un ensemble d'entraînement</b>\n",
    "\n",
    "L'idée est de découper les textes récoltés dans l'étape précédente en fragments de textes qui seront les entrées d'un classifieur. Pour cela, nous devrons :\n",
    "\n",
    "- Choisir une longueur minimum lmin pour la taille d'un fragment de texte.\n",
    "\n",
    "- Etant donné un texte de N caractères dans la langue y, le découper en n=⌊N/lmin⌋ (cad la partie entière de la fraction) fragments d'exemples de textes dans la langue yi: {(F1,yi),…,(Fn,yi)}.\n",
    "\n",
    "- Représenter chaque fragment Fj par le vecteur xj des fréquences des caractères choisis dans l'étape précédente. Répéter cette opération pour chacune des langues pour obtenir votre ensemble d'entraînement.\n"
   ]
  },
  {
   "cell_type": "markdown",
   "metadata": {},
   "source": [
    "### Choix de la représentation des données"
   ]
  },
  {
   "cell_type": "markdown",
   "metadata": {},
   "source": [
    "Afin de choisir les caractères qui permettrons de représenter les données, nous nous baserons sur deux critères :\n",
    " - il faut que le caractère soit suffisament fréquent dans les trois langues\n",
    " - il faut que le caractère ait des fréquences d'apparition significativement différentes d'une langue à une autre\n",
    "Nous allons sélectionner les d caractères en se basant sur ces deux critères."
   ]
  },
  {
   "cell_type": "markdown",
   "metadata": {},
   "source": [
    "<b>Premier critère :</b> il faut que le caractère soit suffisament fréquent dans les trois langues\n",
    "Chaque lettre a trois fréquences d'apparition : une par langue. Nous calculons la moyenne des fréquences d'apparition. Les caractères les plus fréquents auront une moyenne de fréquence d'apparition plus grande. Nous sélectionnerons uniquement les caractères ayant une moyenne de fréquence d'apparition supérieure à la moyenne des moyennes."
   ]
  },
  {
   "cell_type": "code",
   "execution_count": 184,
   "metadata": {},
   "outputs": [
    {
     "name": "stdout",
     "output_type": "stream",
     "text": [
      "{'a': (9.0, 3), 'b': (0.3333333333333333, 1), 'c': (2.6666666666666665, 1), 'd': (4.0, 0), 'e': (11.666666666666666, 3), 'f': (1.3333333333333333, 1), 'g': (1.0, 0), 'h': (1.6666666666666667, 5), 'i': (8.666666666666666, 4), 'j': (0.0, 0), 'l': (5.666666666666667, 4), 'm': (2.0, 0), 'n': (7.0, 0), 'o': (6.666666666666667, 5), 'p': (2.0, 2), 'q': (0.0, 0), 'r': (6.333333333333333, 1), 's': (6.0, 2), 't': (6.666666666666667, 2), 'u': (3.0, 3), 'v': (0.3333333333333333, 1), 'x': (0.0, 0), 'z': (0.0, 0)}\n"
     ]
    }
   ],
   "source": [
    "# Pour chaque caractère nous calculons la moyenne des fréquences k et le plus grand écart de fréquences d\n",
    "dtframe = dict()\n",
    "for i in df:\n",
    "    k = df[i].mean()\n",
    "    a = abs(df[i][0] - df[i][1])\n",
    "    b = abs(df[i][0] - df[i][2])\n",
    "    c = abs(df[i][1] - df[i][2])\n",
    "    d = max(a, b, c)\n",
    "    dtframe[i] = (k, d)\n",
    "print(dtframe)"
   ]
  },
  {
   "cell_type": "code",
   "execution_count": 185,
   "metadata": {},
   "outputs": [
    {
     "name": "stdout",
     "output_type": "stream",
     "text": [
      "3.739130434782608\n"
     ]
    }
   ],
   "source": [
    "# Calcul de la moyenne des moyennes\n",
    "moyennes = list()\n",
    "for i in dtframe:\n",
    "    moyennes.append(dtframe[i][0])\n",
    "seuil = sum(moyennes)/len(moyennes)\n",
    "print(seuil)"
   ]
  },
  {
   "cell_type": "code",
   "execution_count": 186,
   "metadata": {},
   "outputs": [
    {
     "name": "stdout",
     "output_type": "stream",
     "text": [
      "{'a': 3, 'd': 0, 'e': 3, 'i': 4, 'l': 4, 'n': 0, 'o': 5, 'r': 1, 's': 2, 't': 2}\n"
     ]
    }
   ],
   "source": [
    "# Suppression des caractères dont la moyenne est en dessous du seuil\n",
    "dicoo = dict()\n",
    "for i in dtframe:\n",
    "    if dtframe[i][0] > seuil:\n",
    "        dicoo[i] = dtframe[i][1]\n",
    "print(dicoo)"
   ]
  },
  {
   "attachments": {},
   "cell_type": "markdown",
   "metadata": {},
   "source": [
    "<b>Second critère :</b> il faut que le caractère ait des fréquences d'apparition significativement différentes d'une langue à une autre\n",
    "L'écart maximum de chaque caractère est calculé en prenant le maximum des valeurs absolues des écarts entre les fréquences d'ocurrence en italien et en français, en italien et en anglais, et en anglais et en francais. Nous ne prendrons que les lettres dont l'écart maximum est au dessus de 2. Le choix du nombre 2 est fait sans aucune raison particulière."
   ]
  },
  {
   "cell_type": "code",
   "execution_count": 187,
   "metadata": {},
   "outputs": [
    {
     "name": "stdout",
     "output_type": "stream",
     "text": [
      "['a', 'e', 'i', 'l', 'o', 's', 't'] 7\n"
     ]
    }
   ],
   "source": [
    "# Suppression des caractères dont l'écart maximal est en dessous de 2\n",
    "d = list()\n",
    "for i in dicoo:\n",
    "    if dicoo[i] >= 2:\n",
    "        d.append(i)\n",
    "print(d, len(d))"
   ]
  },
  {
   "cell_type": "markdown",
   "metadata": {},
   "source": [
    "Nous retiendrons donc pour notre analyse les 7 caractères suivant : 'a', 'e', 'i', 'l', 'o', 's', 't'"
   ]
  },
  {
   "cell_type": "markdown",
   "metadata": {},
   "source": [
    "### Construction d'un ensemble d'entrainement"
   ]
  },
  {
   "attachments": {},
   "cell_type": "markdown",
   "metadata": {},
   "source": [
    "Nous découperons chacun des trois textes en fragment de 15 caractères. Le nombre de caractères ne devrait être ni trop petit ni trop grand nous avons choisi le nombre 15 sans aucune autre raison particulière. "
   ]
  },
  {
   "cell_type": "code",
   "execution_count": 188,
   "metadata": {},
   "outputs": [],
   "source": [
    "from sklearn.model_selection import train_test_split                # Module pour séparer une base de donnée en base de données d'entrainement et base de données de test"
   ]
  },
  {
   "cell_type": "code",
   "execution_count": 189,
   "metadata": {},
   "outputs": [],
   "source": [
    "def sliceur(iterable, taille: int):\n",
    "    \"\"\"\n",
    "    Permet de découper un itérable en fragment d'une taille donnée.\n",
    "\n",
    "    Prend en arguments : \n",
    "    iterable: Une liste de caractères \"un à un isolés\".\n",
    "    taille (int): Un entier qui donne la taille des fragments que l'on souhaite obtenir.\n",
    "\n",
    "    Retourne \n",
    "    Une liste de fragments de liste. En d'autres termes une liste de listes.\n",
    "    \"\"\"\n",
    "    iteration = []\n",
    "    for i in range(0,len(iterable),taille):\n",
    "        iteration.append(iterable[i:i+taille])\n",
    "    iteration.pop(-1)\n",
    "    return iteration"
   ]
  },
  {
   "cell_type": "code",
   "execution_count": 190,
   "metadata": {},
   "outputs": [
    {
     "name": "stdout",
     "output_type": "stream",
     "text": [
      "Nombre de fragments italien :  438\n",
      "Nombre de fragments anglais :  415\n",
      "Nombre de fragments français :  461\n"
     ]
    }
   ],
   "source": [
    "# Création de fragment de taille 15\n",
    "lst_frag_it = sliceur(lst_caract_it, 15)                            # Italien\n",
    "print(\"Nombre de fragments italien : \", len(lst_frag_it))\n",
    "\n",
    "lst_frag_en = sliceur(lst_caract_en, 15)                            # Anglais\n",
    "print(\"Nombre de fragments anglais : \", len(lst_frag_en))\n",
    "\n",
    "lst_frag_fr = sliceur(lst_caract_fr, 15)                            # Français\n",
    "print(\"Nombre de fragments français : \", len(lst_frag_fr))"
   ]
  },
  {
   "cell_type": "code",
   "execution_count": 191,
   "metadata": {},
   "outputs": [],
   "source": [
    "def get_dict_frag(lst_frag):\n",
    "    \"\"\"\n",
    "    Permet de représenter chaque fragment par les fréquences d'apparition des caractères discriminants dans ce fragment\n",
    "\n",
    "    Prend en arguments : \n",
    "    lst_frag : la liste des fragments.\n",
    "\n",
    "    Retourne \n",
    "    Un dictionnaire avec en clé l'identifiant du fragment et en valeur un tuple des fréquences d'apparition des caractères discriminants\n",
    "    \"\"\"\n",
    "    dict_frag = dict()\n",
    "    for i in range(len(lst_frag)):\n",
    "        k = lst_frag[i]\n",
    "        j = get_freq_caract(k, caract=d)\n",
    "        dict_frag[f\"Fragment {i+1}\"] = tuple(j[l] for l in d)\n",
    "    return dict_frag"
   ]
  },
  {
   "cell_type": "code",
   "execution_count": 192,
   "metadata": {},
   "outputs": [
    {
     "name": "stdout",
     "output_type": "stream",
     "text": [
      "\n",
      "Italien : \n",
      " {'Fragment 1': (20, 13, 13, 6, 6, 0, 6), 'Fragment 2': (6, 6, 13, 6, 6, 13, 0), 'Fragment 3': (13, 6, 20, 0, 13, 0, 0), 'Fragment 4': (0, 0, 26, 20, 13, 0, 0), 'Fragment 5': (13, 20, 6, 6, 0, 0, 0), 'Fragment 6': (6, 0, 13, 6, 20, 6, 20), 'Fragment 7': (13, 13, 20, 6, 6, 0, 6), 'Fragment 8': (20, 0, 20, 13, 13, 6, 13), 'Fragment 9': (13, 13, 6, 6, 6, 6, 6), 'Fragment 10': (0, 20, 6, 0, 6, 13, 6)}\n",
      "\n",
      "Anglais : \n",
      " {'Fragment 1': (6, 6, 6, 6, 6, 0, 6), 'Fragment 2': (6, 20, 0, 0, 6, 0, 0), 'Fragment 3': (0, 33, 0, 0, 6, 0, 6), 'Fragment 4': (6, 0, 26, 6, 6, 13, 13), 'Fragment 5': (26, 6, 6, 0, 0, 6, 0), 'Fragment 6': (6, 0, 20, 6, 13, 6, 6), 'Fragment 7': (6, 26, 0, 0, 0, 6, 13), 'Fragment 8': (0, 13, 13, 0, 6, 6, 20), 'Fragment 9': (6, 13, 0, 0, 6, 13, 20), 'Fragment 10': (6, 13, 6, 6, 6, 6, 6)}\n",
      "\n",
      "Français : \n",
      " {'Fragment 1': (6, 13, 6, 13, 6, 13, 6), 'Fragment 2': (0, 6, 6, 0, 20, 6, 0), 'Fragment 3': (13, 20, 0, 20, 6, 6, 0), 'Fragment 4': (6, 20, 6, 13, 6, 0, 6), 'Fragment 5': (6, 20, 13, 13, 0, 0, 0), 'Fragment 6': (6, 13, 13, 6, 6, 6, 6), 'Fragment 7': (13, 26, 0, 6, 0, 13, 0), 'Fragment 8': (6, 6, 20, 26, 6, 0, 0), 'Fragment 9': (13, 26, 0, 20, 0, 0, 0), 'Fragment 10': (13, 13, 0, 20, 0, 6, 0)}\n"
     ]
    }
   ],
   "source": [
    "# Création de dictionnaires contenant les vecteurs représentants chaque caractère\n",
    "dict_frag_it = get_dict_frag(lst_frag_it)                           # Italien\n",
    "print(f\"\\nItalien : \\n\", dict(list(dict_frag_it.items())[0: 10]))\n",
    "\n",
    "dict_frag_en = get_dict_frag(lst_frag_en)                           # Anglais\n",
    "print(f\"\\nAnglais : \\n\", dict(list(dict_frag_en.items())[0: 10]))\n",
    "\n",
    "dict_frag_fr = get_dict_frag(lst_frag_fr)                           # Français\n",
    "print(f\"\\nFrançais : \\n\", dict(list(dict_frag_fr.items())[0: 10]))"
   ]
  },
  {
   "cell_type": "code",
   "execution_count": 193,
   "metadata": {},
   "outputs": [],
   "source": [
    "# Dataframe des fréquences d'apparition de chaque caractère dans les fragments italiens\n",
    "df_italien=pd.DataFrame(dict_frag_it, index = d)\n",
    "df_italien.loc[\"Langue\"] = [\"IT\"]*len(dict_frag_it)\n",
    "df_italien = df_italien.transpose()\n",
    "\n",
    "# Dataframe des fréquences d'apparition de chaque caractère dans les fragments anglais\n",
    "df_anglais=pd.DataFrame(dict_frag_en, index = d)\n",
    "df_anglais.loc[\"Langue\"] = [\"EN\"]*len(dict_frag_en)\n",
    "df_anglais = df_anglais.transpose()\n",
    "\n",
    "# Dataframe des fréquences d'apparition de chaque caractère dans les fragments français\n",
    "df_francais=pd.DataFrame(dict_frag_fr, index = d)\n",
    "df_francais.loc[\"Langue\"] = [\"FR\"]*len(dict_frag_fr)\n",
    "df_francais = df_francais.transpose()"
   ]
  },
  {
   "cell_type": "code",
   "execution_count": 194,
   "metadata": {},
   "outputs": [
    {
     "name": "stdout",
     "output_type": "stream",
     "text": [
      "       a   e   i   l   o   s   t Langue\n",
      "0     20  13  13   6   6   0   6     IT\n",
      "1      6   6  13   6   6  13   0     IT\n",
      "2     13   6  20   0  13   0   0     IT\n",
      "3      0   0  26  20  13   0   0     IT\n",
      "4     13  20   6   6   0   0   0     IT\n",
      "...   ..  ..  ..  ..  ..  ..  ..    ...\n",
      "1309  13  20   6   0   0   6   0     FR\n",
      "1310   6   6  13   6   0  20  13     FR\n",
      "1311   0  20   6   6   6  13   0     FR\n",
      "1312  13   6  13   0   0   6  20     FR\n",
      "1313  20  13   0   6   0   6   0     FR\n",
      "\n",
      "[1314 rows x 8 columns]\n"
     ]
    }
   ],
   "source": [
    "frames = (df_italien, df_anglais, df_francais)\n",
    "df_final = pd.concat(frames)\n",
    "df_final = df_final.reset_index(drop=True)\n",
    "print(df_final)"
   ]
  },
  {
   "cell_type": "code",
   "execution_count": 195,
   "metadata": {},
   "outputs": [
    {
     "data": {
      "text/html": [
       "<div>\n",
       "<style scoped>\n",
       "    .dataframe tbody tr th:only-of-type {\n",
       "        vertical-align: middle;\n",
       "    }\n",
       "\n",
       "    .dataframe tbody tr th {\n",
       "        vertical-align: top;\n",
       "    }\n",
       "\n",
       "    .dataframe thead th {\n",
       "        text-align: right;\n",
       "    }\n",
       "</style>\n",
       "<table border=\"1\" class=\"dataframe\">\n",
       "  <thead>\n",
       "    <tr style=\"text-align: right;\">\n",
       "      <th></th>\n",
       "      <th>a</th>\n",
       "      <th>e</th>\n",
       "      <th>i</th>\n",
       "      <th>l</th>\n",
       "      <th>o</th>\n",
       "      <th>s</th>\n",
       "      <th>t</th>\n",
       "      <th>Langue</th>\n",
       "    </tr>\n",
       "  </thead>\n",
       "  <tbody>\n",
       "    <tr>\n",
       "      <th>count</th>\n",
       "      <td>1314</td>\n",
       "      <td>1314</td>\n",
       "      <td>1314</td>\n",
       "      <td>1314</td>\n",
       "      <td>1314</td>\n",
       "      <td>1314</td>\n",
       "      <td>1314</td>\n",
       "      <td>1314</td>\n",
       "    </tr>\n",
       "    <tr>\n",
       "      <th>unique</th>\n",
       "      <td>7</td>\n",
       "      <td>7</td>\n",
       "      <td>6</td>\n",
       "      <td>7</td>\n",
       "      <td>6</td>\n",
       "      <td>6</td>\n",
       "      <td>6</td>\n",
       "      <td>3</td>\n",
       "    </tr>\n",
       "    <tr>\n",
       "      <th>top</th>\n",
       "      <td>6</td>\n",
       "      <td>13</td>\n",
       "      <td>6</td>\n",
       "      <td>0</td>\n",
       "      <td>6</td>\n",
       "      <td>0</td>\n",
       "      <td>6</td>\n",
       "      <td>FR</td>\n",
       "    </tr>\n",
       "    <tr>\n",
       "      <th>freq</th>\n",
       "      <td>499</td>\n",
       "      <td>434</td>\n",
       "      <td>466</td>\n",
       "      <td>495</td>\n",
       "      <td>528</td>\n",
       "      <td>499</td>\n",
       "      <td>530</td>\n",
       "      <td>461</td>\n",
       "    </tr>\n",
       "  </tbody>\n",
       "</table>\n",
       "</div>"
      ],
      "text/plain": [
       "           a     e     i     l     o     s     t Langue\n",
       "count   1314  1314  1314  1314  1314  1314  1314   1314\n",
       "unique     7     7     6     7     6     6     6      3\n",
       "top        6    13     6     0     6     0     6     FR\n",
       "freq     499   434   466   495   528   499   530    461"
      ]
     },
     "execution_count": 195,
     "metadata": {},
     "output_type": "execute_result"
    }
   ],
   "source": [
    "df_final.describe()"
   ]
  },
  {
   "cell_type": "code",
   "execution_count": 196,
   "metadata": {},
   "outputs": [
    {
     "name": "stdout",
     "output_type": "stream",
     "text": [
      "(1314, 7) (1314,)\n"
     ]
    }
   ],
   "source": [
    "# Création du tableau des variables explicatives et de la variable à expliquer\n",
    "y = df_final['Langue']\n",
    "X = df_final.drop(['Langue'] , axis=1)\n",
    "print(X.shape, y.shape)"
   ]
  },
  {
   "cell_type": "code",
   "execution_count": 197,
   "metadata": {},
   "outputs": [
    {
     "name": "stdout",
     "output_type": "stream",
     "text": [
      " Taille de la base des X d'apprentissage : (1051, 7) \n",
      " Taille de la base des X de test : (263, 7) \n",
      " Taille de la base y d'apprentissage : (1051,) \n",
      " Taille de la base y de test : (263,)\n"
     ]
    }
   ],
   "source": [
    "# Création des bases de données d'apprentissage et des bases de données de test\n",
    "X_tr, X_te, y_tr, y_te = train_test_split(X, y, test_size=0.20, random_state=5)\n",
    "print(\" Taille de la base des X d'apprentissage :\", X_tr.shape, \"\\n Taille de la base des X de test :\", X_te.shape, \"\\n Taille de la base y d'apprentissage :\", y_tr.shape, \"\\n Taille de la base y de test :\", y_te.shape)"
   ]
  },
  {
   "attachments": {},
   "cell_type": "markdown",
   "metadata": {},
   "source": [
    "## <b>Troisième étape :</b> Classification naive bayésienne :\n",
    "Il s'agira ici d'entrainer un modèle de classification naif bayésien sur l'ensemble des données d'entrainement constitué à l'étape précédente."
   ]
  },
  {
   "cell_type": "code",
   "execution_count": 198,
   "metadata": {},
   "outputs": [],
   "source": [
    "from sklearn.naive_bayes import GaussianNB\n",
    "from sklearn.naive_bayes import MultinomialNB\n",
    "from sklearn.model_selection import cross_val_score                 # Module pour réaliser la validation croisée\n",
    "import numpy as np"
   ]
  },
  {
   "cell_type": "code",
   "execution_count": 199,
   "metadata": {},
   "outputs": [
    {
     "data": {
      "text/html": [
       "<style>#sk-container-id-15 {color: black;background-color: white;}#sk-container-id-15 pre{padding: 0;}#sk-container-id-15 div.sk-toggleable {background-color: white;}#sk-container-id-15 label.sk-toggleable__label {cursor: pointer;display: block;width: 100%;margin-bottom: 0;padding: 0.3em;box-sizing: border-box;text-align: center;}#sk-container-id-15 label.sk-toggleable__label-arrow:before {content: \"▸\";float: left;margin-right: 0.25em;color: #696969;}#sk-container-id-15 label.sk-toggleable__label-arrow:hover:before {color: black;}#sk-container-id-15 div.sk-estimator:hover label.sk-toggleable__label-arrow:before {color: black;}#sk-container-id-15 div.sk-toggleable__content {max-height: 0;max-width: 0;overflow: hidden;text-align: left;background-color: #f0f8ff;}#sk-container-id-15 div.sk-toggleable__content pre {margin: 0.2em;color: black;border-radius: 0.25em;background-color: #f0f8ff;}#sk-container-id-15 input.sk-toggleable__control:checked~div.sk-toggleable__content {max-height: 200px;max-width: 100%;overflow: auto;}#sk-container-id-15 input.sk-toggleable__control:checked~label.sk-toggleable__label-arrow:before {content: \"▾\";}#sk-container-id-15 div.sk-estimator input.sk-toggleable__control:checked~label.sk-toggleable__label {background-color: #d4ebff;}#sk-container-id-15 div.sk-label input.sk-toggleable__control:checked~label.sk-toggleable__label {background-color: #d4ebff;}#sk-container-id-15 input.sk-hidden--visually {border: 0;clip: rect(1px 1px 1px 1px);clip: rect(1px, 1px, 1px, 1px);height: 1px;margin: -1px;overflow: hidden;padding: 0;position: absolute;width: 1px;}#sk-container-id-15 div.sk-estimator {font-family: monospace;background-color: #f0f8ff;border: 1px dotted black;border-radius: 0.25em;box-sizing: border-box;margin-bottom: 0.5em;}#sk-container-id-15 div.sk-estimator:hover {background-color: #d4ebff;}#sk-container-id-15 div.sk-parallel-item::after {content: \"\";width: 100%;border-bottom: 1px solid gray;flex-grow: 1;}#sk-container-id-15 div.sk-label:hover label.sk-toggleable__label {background-color: #d4ebff;}#sk-container-id-15 div.sk-serial::before {content: \"\";position: absolute;border-left: 1px solid gray;box-sizing: border-box;top: 0;bottom: 0;left: 50%;z-index: 0;}#sk-container-id-15 div.sk-serial {display: flex;flex-direction: column;align-items: center;background-color: white;padding-right: 0.2em;padding-left: 0.2em;position: relative;}#sk-container-id-15 div.sk-item {position: relative;z-index: 1;}#sk-container-id-15 div.sk-parallel {display: flex;align-items: stretch;justify-content: center;background-color: white;position: relative;}#sk-container-id-15 div.sk-item::before, #sk-container-id-15 div.sk-parallel-item::before {content: \"\";position: absolute;border-left: 1px solid gray;box-sizing: border-box;top: 0;bottom: 0;left: 50%;z-index: -1;}#sk-container-id-15 div.sk-parallel-item {display: flex;flex-direction: column;z-index: 1;position: relative;background-color: white;}#sk-container-id-15 div.sk-parallel-item:first-child::after {align-self: flex-end;width: 50%;}#sk-container-id-15 div.sk-parallel-item:last-child::after {align-self: flex-start;width: 50%;}#sk-container-id-15 div.sk-parallel-item:only-child::after {width: 0;}#sk-container-id-15 div.sk-dashed-wrapped {border: 1px dashed gray;margin: 0 0.4em 0.5em 0.4em;box-sizing: border-box;padding-bottom: 0.4em;background-color: white;}#sk-container-id-15 div.sk-label label {font-family: monospace;font-weight: bold;display: inline-block;line-height: 1.2em;}#sk-container-id-15 div.sk-label-container {text-align: center;}#sk-container-id-15 div.sk-container {/* jupyter's `normalize.less` sets `[hidden] { display: none; }` but bootstrap.min.css set `[hidden] { display: none !important; }` so we also need the `!important` here to be able to override the default hidden behavior on the sphinx rendered scikit-learn.org. See: https://github.com/scikit-learn/scikit-learn/issues/21755 */display: inline-block !important;position: relative;}#sk-container-id-15 div.sk-text-repr-fallback {display: none;}</style><div id=\"sk-container-id-15\" class=\"sk-top-container\"><div class=\"sk-text-repr-fallback\"><pre>GaussianNB()</pre><b>In a Jupyter environment, please rerun this cell to show the HTML representation or trust the notebook. <br />On GitHub, the HTML representation is unable to render, please try loading this page with nbviewer.org.</b></div><div class=\"sk-container\" hidden><div class=\"sk-item\"><div class=\"sk-estimator sk-toggleable\"><input class=\"sk-toggleable__control sk-hidden--visually\" id=\"sk-estimator-id-15\" type=\"checkbox\" checked><label for=\"sk-estimator-id-15\" class=\"sk-toggleable__label sk-toggleable__label-arrow\">GaussianNB</label><div class=\"sk-toggleable__content\"><pre>GaussianNB()</pre></div></div></div></div></div>"
      ],
      "text/plain": [
       "GaussianNB()"
      ]
     },
     "execution_count": 199,
     "metadata": {},
     "output_type": "execute_result"
    }
   ],
   "source": [
    "# Ajustement du modèle\n",
    "GNB = GaussianNB()\n",
    "GNB.fit(X_tr, y_tr)"
   ]
  },
  {
   "cell_type": "code",
   "execution_count": 200,
   "metadata": {},
   "outputs": [
    {
     "name": "stdout",
     "output_type": "stream",
     "text": [
      "Score d'entrainement: 0.5214081826831589\n",
      "Score de test: 0.5551330798479087\n",
      "Score de la validation croisée: 0.5075929527181959\n"
     ]
    }
   ],
   "source": [
    "# Évaluation de la performance du modèle (calcul des scores)\n",
    "print(\"Score d'entrainement:\", GNB.score(X_tr, y_tr))\n",
    "print('Score de test:', GNB.score(X_te, y_te))\n",
    "print('Score de la validation croisée:', np.mean(cross_val_score(GNB, X, y, cv=5)))"
   ]
  },
  {
   "attachments": {},
   "cell_type": "markdown",
   "metadata": {},
   "source": [
    "Nous remarquons que les scores de la classification naive bayésienne ne sont pas très bons. En effet, l'algorithme n'arrive à bien classer un fragment de texte qu'une fois sur deux. Il est possible que cela soit dû à un choix de représentation pas suffisement discriminante ou à une taille de fragment trop petite."
   ]
  },
  {
   "attachments": {},
   "cell_type": "markdown",
   "metadata": {},
   "source": [
    "## <b>Quatrième étape :</b> Piste d'approfondissement :"
   ]
  },
  {
   "attachments": {},
   "cell_type": "markdown",
   "metadata": {},
   "source": [
    "### <b> Evolution 1 :</b> Changement de la représentation des données\n",
    "Nous avons choisi de ne pas représenter les fragments avec les caractères rares. Pour cette piste d'amélioration nous étudierons l'éffet de l'utilisation de caractères rares (dans certaines langues seulement) pour la représentation des fragments. Nous conserverons cependant le critère d'écart entre les fréquences."
   ]
  },
  {
   "cell_type": "code",
   "execution_count": 201,
   "metadata": {},
   "outputs": [
    {
     "name": "stdout",
     "output_type": "stream",
     "text": [
      "{'a': 3, 'c': 1, 'd': 0, 'e': 3, 'f': 1, 'h': 5, 'i': 4, 'l': 4, 'm': 0, 'n': 0, 'o': 5, 'p': 2, 'r': 1, 's': 2, 't': 2, 'u': 3}\n"
     ]
    }
   ],
   "source": [
    "# Suppression des caractères dont la moyenne est en dessous du seuil\n",
    "dicoo1 = dict()\n",
    "for i in dtframe:\n",
    "    if dtframe[i][0] > 1:\n",
    "        dicoo1[i] = dtframe[i][1]\n",
    "print(dicoo1)"
   ]
  },
  {
   "cell_type": "code",
   "execution_count": 202,
   "metadata": {},
   "outputs": [
    {
     "name": "stdout",
     "output_type": "stream",
     "text": [
      "['a', 'e', 'h', 'i', 'l', 'o', 'p', 's', 't', 'u'] 10\n"
     ]
    }
   ],
   "source": [
    "# Suppression des caractères dont l'écart maximal est en dessous de 2\n",
    "d = list()\n",
    "for i in dicoo1:\n",
    "    if dicoo1[i] >= 2:\n",
    "        d.append(i)\n",
    "print(d, len(d))"
   ]
  },
  {
   "cell_type": "code",
   "execution_count": 203,
   "metadata": {},
   "outputs": [
    {
     "name": "stdout",
     "output_type": "stream",
     "text": [
      "Nombre de fragments italien :  438\n",
      "Nombre de fragments anglais :  415\n",
      "Nombre de fragments français :  461\n"
     ]
    }
   ],
   "source": [
    "# Création de fragment de taille 15\n",
    "lst_frag_it1 = sliceur(lst_caract_it, 15)                            # Italien\n",
    "print(\"Nombre de fragments italien : \", len(lst_frag_it1))\n",
    "\n",
    "lst_frag_en1 = sliceur(lst_caract_en, 15)                            # Anglais\n",
    "print(\"Nombre de fragments anglais : \", len(lst_frag_en1))\n",
    "\n",
    "lst_frag_fr1 = sliceur(lst_caract_fr, 15)                            # Français\n",
    "print(\"Nombre de fragments français : \", len(lst_frag_fr1))"
   ]
  },
  {
   "cell_type": "code",
   "execution_count": 204,
   "metadata": {},
   "outputs": [
    {
     "name": "stdout",
     "output_type": "stream",
     "text": [
      "\n",
      "Italien : \n",
      " {'Fragment 1': (20, 13, 0, 13, 6, 6, 0, 0, 6, 0), 'Fragment 2': (6, 6, 0, 13, 6, 6, 0, 13, 0, 6), 'Fragment 3': (13, 6, 0, 20, 0, 13, 20, 0, 0, 0), 'Fragment 4': (0, 0, 0, 26, 20, 13, 0, 0, 0, 13), 'Fragment 5': (13, 20, 0, 6, 6, 0, 6, 0, 0, 0), 'Fragment 6': (6, 0, 0, 13, 6, 20, 6, 6, 20, 6), 'Fragment 7': (13, 13, 0, 20, 6, 6, 0, 0, 6, 0), 'Fragment 8': (20, 0, 0, 20, 13, 13, 0, 6, 13, 0), 'Fragment 9': (13, 13, 0, 6, 6, 6, 0, 6, 6, 0), 'Fragment 10': (0, 20, 0, 6, 0, 6, 6, 13, 6, 6)}\n",
      "\n",
      "Anglais : \n",
      " {'Fragment 1': (6, 6, 6, 6, 6, 6, 0, 0, 6, 0), 'Fragment 2': (6, 20, 0, 0, 0, 6, 0, 0, 0, 0), 'Fragment 3': (0, 33, 0, 0, 0, 6, 0, 0, 6, 0), 'Fragment 4': (6, 0, 6, 26, 6, 6, 0, 13, 13, 0), 'Fragment 5': (26, 6, 0, 6, 0, 0, 0, 6, 0, 0), 'Fragment 6': (6, 0, 6, 20, 6, 13, 6, 6, 6, 0), 'Fragment 7': (6, 26, 13, 0, 0, 0, 6, 6, 13, 0), 'Fragment 8': (0, 13, 6, 13, 0, 6, 0, 6, 20, 6), 'Fragment 9': (6, 13, 0, 0, 0, 6, 0, 13, 20, 6), 'Fragment 10': (6, 13, 13, 6, 6, 6, 0, 6, 6, 6)}\n",
      "\n",
      "Français : \n",
      " {'Fragment 1': (6, 13, 0, 6, 13, 6, 6, 13, 6, 6), 'Fragment 2': (0, 6, 13, 6, 0, 20, 0, 6, 0, 0), 'Fragment 3': (13, 20, 6, 0, 20, 6, 0, 6, 0, 6), 'Fragment 4': (6, 20, 0, 6, 13, 6, 0, 0, 6, 6), 'Fragment 5': (6, 20, 0, 13, 13, 0, 0, 0, 0, 6), 'Fragment 6': (6, 13, 0, 13, 6, 6, 6, 6, 6, 13), 'Fragment 7': (13, 26, 0, 0, 6, 0, 0, 13, 0, 0), 'Fragment 8': (6, 6, 0, 20, 26, 6, 0, 0, 0, 0), 'Fragment 9': (13, 26, 6, 0, 20, 0, 0, 0, 0, 6), 'Fragment 10': (13, 13, 0, 0, 20, 0, 0, 6, 0, 6)}\n"
     ]
    }
   ],
   "source": [
    "# Création de dictionnaires contenant les vecteurs représentants chaque caractère\n",
    "dict_frag_it1 = get_dict_frag(lst_frag_it1)                           # Italien\n",
    "print(f\"\\nItalien : \\n\", dict(list(dict_frag_it1.items())[0: 10]))\n",
    "\n",
    "dict_frag_en1 = get_dict_frag(lst_frag_en1)                           # Anglais\n",
    "print(f\"\\nAnglais : \\n\", dict(list(dict_frag_en1.items())[0: 10]))\n",
    "\n",
    "dict_frag_fr1 = get_dict_frag(lst_frag_fr1)                           # Français\n",
    "print(f\"\\nFrançais : \\n\", dict(list(dict_frag_fr1.items())[0: 10]))"
   ]
  },
  {
   "cell_type": "code",
   "execution_count": 205,
   "metadata": {},
   "outputs": [],
   "source": [
    "# Dataframe des fréquences d'apparition de chaque caractère dans les fragments italiens\n",
    "df_italien1=pd.DataFrame(dict_frag_it1, index = d)\n",
    "df_italien1.loc[\"Langue\"] = [\"IT\"]*len(dict_frag_it1)\n",
    "df_italien1 = df_italien1.transpose()\n",
    "\n",
    "# Dataframe des fréquences d'apparition de chaque caractère dans les fragments anglais\n",
    "df_anglais1=pd.DataFrame(dict_frag_en1, index = d)\n",
    "df_anglais1.loc[\"Langue\"] = [\"EN\"]*len(dict_frag_en1)\n",
    "df_anglais1 = df_anglais1.transpose()\n",
    "\n",
    "# Dataframe des fréquences d'apparition de chaque caractère dans les fragments français\n",
    "df_francais1=pd.DataFrame(dict_frag_fr1, index = d)\n",
    "df_francais1.loc[\"Langue\"] = [\"FR\"]*len(dict_frag_fr1)\n",
    "df_francais1 = df_francais1.transpose()"
   ]
  },
  {
   "cell_type": "code",
   "execution_count": 206,
   "metadata": {},
   "outputs": [
    {
     "name": "stdout",
     "output_type": "stream",
     "text": [
      "       a   e  h   i   l   o   p   s   t   u Langue\n",
      "0     20  13  0  13   6   6   0   0   6   0     IT\n",
      "1      6   6  0  13   6   6   0  13   0   6     IT\n",
      "2     13   6  0  20   0  13  20   0   0   0     IT\n",
      "3      0   0  0  26  20  13   0   0   0  13     IT\n",
      "4     13  20  0   6   6   0   6   0   0   0     IT\n",
      "...   ..  .. ..  ..  ..  ..  ..  ..  ..  ..    ...\n",
      "1309  13  20  0   6   0   0   0   6   0   0     FR\n",
      "1310   6   6  0  13   6   0   0  20  13   6     FR\n",
      "1311   0  20  6   6   6   6   0  13   0   6     FR\n",
      "1312  13   6  0  13   0   0   0   6  20   0     FR\n",
      "1313  20  13  0   0   6   0   0   6   0  13     FR\n",
      "\n",
      "[1314 rows x 11 columns]\n"
     ]
    }
   ],
   "source": [
    "frames = (df_italien1, df_anglais1, df_francais1)\n",
    "df_final1 = pd.concat(frames)\n",
    "df_final1 = df_final1.reset_index(drop=True)\n",
    "print(df_final1)"
   ]
  },
  {
   "cell_type": "code",
   "execution_count": 207,
   "metadata": {},
   "outputs": [
    {
     "name": "stdout",
     "output_type": "stream",
     "text": [
      "(1314, 7) (1314,)\n"
     ]
    }
   ],
   "source": [
    "# Création du tableau des variables explicatives et de la variable à expliquer\n",
    "y1 = df_final1['Langue']\n",
    "X1 = df_final1.drop(['Langue'] , axis=1)\n",
    "print(X.shape, y.shape)"
   ]
  },
  {
   "cell_type": "code",
   "execution_count": 208,
   "metadata": {},
   "outputs": [
    {
     "name": "stdout",
     "output_type": "stream",
     "text": [
      " Taille de la base des X d'apprentissage : (1051, 10) \n",
      " Taille de la base des X de test : (263, 10) \n",
      " Taille de la base y d'apprentissage : (1051,) \n",
      " Taille de la base y de test : (263,)\n"
     ]
    }
   ],
   "source": [
    "# Création des bases de données d'apprentissage et des bases de données de test\n",
    "X_tr1, X_te1, y_tr1, y_te1 = train_test_split(X1, y1, test_size=0.20, random_state=5)\n",
    "print(\" Taille de la base des X d'apprentissage :\", X_tr1.shape, \"\\n Taille de la base des X de test :\", X_te1.shape, \"\\n Taille de la base y d'apprentissage :\", y_tr1.shape, \"\\n Taille de la base y de test :\", y_te1.shape)"
   ]
  },
  {
   "cell_type": "code",
   "execution_count": 209,
   "metadata": {},
   "outputs": [
    {
     "data": {
      "text/html": [
       "<style>#sk-container-id-16 {color: black;background-color: white;}#sk-container-id-16 pre{padding: 0;}#sk-container-id-16 div.sk-toggleable {background-color: white;}#sk-container-id-16 label.sk-toggleable__label {cursor: pointer;display: block;width: 100%;margin-bottom: 0;padding: 0.3em;box-sizing: border-box;text-align: center;}#sk-container-id-16 label.sk-toggleable__label-arrow:before {content: \"▸\";float: left;margin-right: 0.25em;color: #696969;}#sk-container-id-16 label.sk-toggleable__label-arrow:hover:before {color: black;}#sk-container-id-16 div.sk-estimator:hover label.sk-toggleable__label-arrow:before {color: black;}#sk-container-id-16 div.sk-toggleable__content {max-height: 0;max-width: 0;overflow: hidden;text-align: left;background-color: #f0f8ff;}#sk-container-id-16 div.sk-toggleable__content pre {margin: 0.2em;color: black;border-radius: 0.25em;background-color: #f0f8ff;}#sk-container-id-16 input.sk-toggleable__control:checked~div.sk-toggleable__content {max-height: 200px;max-width: 100%;overflow: auto;}#sk-container-id-16 input.sk-toggleable__control:checked~label.sk-toggleable__label-arrow:before {content: \"▾\";}#sk-container-id-16 div.sk-estimator input.sk-toggleable__control:checked~label.sk-toggleable__label {background-color: #d4ebff;}#sk-container-id-16 div.sk-label input.sk-toggleable__control:checked~label.sk-toggleable__label {background-color: #d4ebff;}#sk-container-id-16 input.sk-hidden--visually {border: 0;clip: rect(1px 1px 1px 1px);clip: rect(1px, 1px, 1px, 1px);height: 1px;margin: -1px;overflow: hidden;padding: 0;position: absolute;width: 1px;}#sk-container-id-16 div.sk-estimator {font-family: monospace;background-color: #f0f8ff;border: 1px dotted black;border-radius: 0.25em;box-sizing: border-box;margin-bottom: 0.5em;}#sk-container-id-16 div.sk-estimator:hover {background-color: #d4ebff;}#sk-container-id-16 div.sk-parallel-item::after {content: \"\";width: 100%;border-bottom: 1px solid gray;flex-grow: 1;}#sk-container-id-16 div.sk-label:hover label.sk-toggleable__label {background-color: #d4ebff;}#sk-container-id-16 div.sk-serial::before {content: \"\";position: absolute;border-left: 1px solid gray;box-sizing: border-box;top: 0;bottom: 0;left: 50%;z-index: 0;}#sk-container-id-16 div.sk-serial {display: flex;flex-direction: column;align-items: center;background-color: white;padding-right: 0.2em;padding-left: 0.2em;position: relative;}#sk-container-id-16 div.sk-item {position: relative;z-index: 1;}#sk-container-id-16 div.sk-parallel {display: flex;align-items: stretch;justify-content: center;background-color: white;position: relative;}#sk-container-id-16 div.sk-item::before, #sk-container-id-16 div.sk-parallel-item::before {content: \"\";position: absolute;border-left: 1px solid gray;box-sizing: border-box;top: 0;bottom: 0;left: 50%;z-index: -1;}#sk-container-id-16 div.sk-parallel-item {display: flex;flex-direction: column;z-index: 1;position: relative;background-color: white;}#sk-container-id-16 div.sk-parallel-item:first-child::after {align-self: flex-end;width: 50%;}#sk-container-id-16 div.sk-parallel-item:last-child::after {align-self: flex-start;width: 50%;}#sk-container-id-16 div.sk-parallel-item:only-child::after {width: 0;}#sk-container-id-16 div.sk-dashed-wrapped {border: 1px dashed gray;margin: 0 0.4em 0.5em 0.4em;box-sizing: border-box;padding-bottom: 0.4em;background-color: white;}#sk-container-id-16 div.sk-label label {font-family: monospace;font-weight: bold;display: inline-block;line-height: 1.2em;}#sk-container-id-16 div.sk-label-container {text-align: center;}#sk-container-id-16 div.sk-container {/* jupyter's `normalize.less` sets `[hidden] { display: none; }` but bootstrap.min.css set `[hidden] { display: none !important; }` so we also need the `!important` here to be able to override the default hidden behavior on the sphinx rendered scikit-learn.org. See: https://github.com/scikit-learn/scikit-learn/issues/21755 */display: inline-block !important;position: relative;}#sk-container-id-16 div.sk-text-repr-fallback {display: none;}</style><div id=\"sk-container-id-16\" class=\"sk-top-container\"><div class=\"sk-text-repr-fallback\"><pre>GaussianNB()</pre><b>In a Jupyter environment, please rerun this cell to show the HTML representation or trust the notebook. <br />On GitHub, the HTML representation is unable to render, please try loading this page with nbviewer.org.</b></div><div class=\"sk-container\" hidden><div class=\"sk-item\"><div class=\"sk-estimator sk-toggleable\"><input class=\"sk-toggleable__control sk-hidden--visually\" id=\"sk-estimator-id-16\" type=\"checkbox\" checked><label for=\"sk-estimator-id-16\" class=\"sk-toggleable__label sk-toggleable__label-arrow\">GaussianNB</label><div class=\"sk-toggleable__content\"><pre>GaussianNB()</pre></div></div></div></div></div>"
      ],
      "text/plain": [
       "GaussianNB()"
      ]
     },
     "execution_count": 209,
     "metadata": {},
     "output_type": "execute_result"
    }
   ],
   "source": [
    "# Ajustement du modèle\n",
    "GNB1 = GaussianNB()\n",
    "GNB1.fit(X_tr1, y_tr1)"
   ]
  },
  {
   "cell_type": "code",
   "execution_count": 210,
   "metadata": {},
   "outputs": [
    {
     "ename": "ValueError",
     "evalue": "The feature names should match those that were passed during fit.\nFeature names unseen at fit time:\n- h\n- p\n- u\n",
     "output_type": "error",
     "traceback": [
      "\u001b[1;31m---------------------------------------------------------------------------\u001b[0m",
      "\u001b[1;31mValueError\u001b[0m                                Traceback (most recent call last)",
      "Cell \u001b[1;32mIn[210], line 2\u001b[0m\n\u001b[0;32m      1\u001b[0m \u001b[39m# Évaluation de la performance du modèle (calcul des scores)\u001b[39;00m\n\u001b[1;32m----> 2\u001b[0m \u001b[39mprint\u001b[39m(\u001b[39m\"\u001b[39m\u001b[39mScore d\u001b[39m\u001b[39m'\u001b[39m\u001b[39mentrainement:\u001b[39m\u001b[39m\"\u001b[39m, GNB\u001b[39m.\u001b[39;49mscore(X_tr1, y_tr1))\n\u001b[0;32m      3\u001b[0m \u001b[39mprint\u001b[39m(\u001b[39m'\u001b[39m\u001b[39mScore de test:\u001b[39m\u001b[39m'\u001b[39m, GNB1\u001b[39m.\u001b[39mscore(X_te1, y_te1))\n\u001b[0;32m      4\u001b[0m \u001b[39mprint\u001b[39m(\u001b[39m'\u001b[39m\u001b[39mScore de la validation croisée:\u001b[39m\u001b[39m'\u001b[39m, np\u001b[39m.\u001b[39mmean(cross_val_score(GNB1, X1, y1, cv\u001b[39m=\u001b[39m\u001b[39m5\u001b[39m)))\n",
      "File \u001b[1;32m~\\AppData\\Local\\Packages\\PythonSoftwareFoundation.Python.3.11_qbz5n2kfra8p0\\LocalCache\\local-packages\\Python311\\site-packages\\sklearn\\base.py:638\u001b[0m, in \u001b[0;36mClassifierMixin.score\u001b[1;34m(self, X, y, sample_weight)\u001b[0m\n\u001b[0;32m    613\u001b[0m \u001b[39m\"\"\"\u001b[39;00m\n\u001b[0;32m    614\u001b[0m \u001b[39mReturn the mean accuracy on the given test data and labels.\u001b[39;00m\n\u001b[0;32m    615\u001b[0m \n\u001b[1;32m   (...)\u001b[0m\n\u001b[0;32m    634\u001b[0m \u001b[39m    Mean accuracy of ``self.predict(X)`` wrt. `y`.\u001b[39;00m\n\u001b[0;32m    635\u001b[0m \u001b[39m\"\"\"\u001b[39;00m\n\u001b[0;32m    636\u001b[0m \u001b[39mfrom\u001b[39;00m \u001b[39m.\u001b[39;00m\u001b[39mmetrics\u001b[39;00m \u001b[39mimport\u001b[39;00m accuracy_score\n\u001b[1;32m--> 638\u001b[0m \u001b[39mreturn\u001b[39;00m accuracy_score(y, \u001b[39mself\u001b[39;49m\u001b[39m.\u001b[39;49mpredict(X), sample_weight\u001b[39m=\u001b[39msample_weight)\n",
      "File \u001b[1;32m~\\AppData\\Local\\Packages\\PythonSoftwareFoundation.Python.3.11_qbz5n2kfra8p0\\LocalCache\\local-packages\\Python311\\site-packages\\sklearn\\naive_bayes.py:105\u001b[0m, in \u001b[0;36m_BaseNB.predict\u001b[1;34m(self, X)\u001b[0m\n\u001b[0;32m     91\u001b[0m \u001b[39m\"\"\"\u001b[39;00m\n\u001b[0;32m     92\u001b[0m \u001b[39mPerform classification on an array of test vectors X.\u001b[39;00m\n\u001b[0;32m     93\u001b[0m \n\u001b[1;32m   (...)\u001b[0m\n\u001b[0;32m    102\u001b[0m \u001b[39m    Predicted target values for X.\u001b[39;00m\n\u001b[0;32m    103\u001b[0m \u001b[39m\"\"\"\u001b[39;00m\n\u001b[0;32m    104\u001b[0m check_is_fitted(\u001b[39mself\u001b[39m)\n\u001b[1;32m--> 105\u001b[0m X \u001b[39m=\u001b[39m \u001b[39mself\u001b[39;49m\u001b[39m.\u001b[39;49m_check_X(X)\n\u001b[0;32m    106\u001b[0m jll \u001b[39m=\u001b[39m \u001b[39mself\u001b[39m\u001b[39m.\u001b[39m_joint_log_likelihood(X)\n\u001b[0;32m    107\u001b[0m \u001b[39mreturn\u001b[39;00m \u001b[39mself\u001b[39m\u001b[39m.\u001b[39mclasses_[np\u001b[39m.\u001b[39margmax(jll, axis\u001b[39m=\u001b[39m\u001b[39m1\u001b[39m)]\n",
      "File \u001b[1;32m~\\AppData\\Local\\Packages\\PythonSoftwareFoundation.Python.3.11_qbz5n2kfra8p0\\LocalCache\\local-packages\\Python311\\site-packages\\sklearn\\naive_bayes.py:273\u001b[0m, in \u001b[0;36mGaussianNB._check_X\u001b[1;34m(self, X)\u001b[0m\n\u001b[0;32m    271\u001b[0m \u001b[39mdef\u001b[39;00m \u001b[39m_check_X\u001b[39m(\u001b[39mself\u001b[39m, X):\n\u001b[0;32m    272\u001b[0m     \u001b[39m\"\"\"Validate X, used only in predict* methods.\"\"\"\u001b[39;00m\n\u001b[1;32m--> 273\u001b[0m     \u001b[39mreturn\u001b[39;00m \u001b[39mself\u001b[39;49m\u001b[39m.\u001b[39;49m_validate_data(X, reset\u001b[39m=\u001b[39;49m\u001b[39mFalse\u001b[39;49;00m)\n",
      "File \u001b[1;32m~\\AppData\\Local\\Packages\\PythonSoftwareFoundation.Python.3.11_qbz5n2kfra8p0\\LocalCache\\local-packages\\Python311\\site-packages\\sklearn\\base.py:518\u001b[0m, in \u001b[0;36mBaseEstimator._validate_data\u001b[1;34m(self, X, y, reset, validate_separately, **check_params)\u001b[0m\n\u001b[0;32m    453\u001b[0m \u001b[39mdef\u001b[39;00m \u001b[39m_validate_data\u001b[39m(\n\u001b[0;32m    454\u001b[0m     \u001b[39mself\u001b[39m,\n\u001b[0;32m    455\u001b[0m     X\u001b[39m=\u001b[39m\u001b[39m\"\u001b[39m\u001b[39mno_validation\u001b[39m\u001b[39m\"\u001b[39m,\n\u001b[1;32m   (...)\u001b[0m\n\u001b[0;32m    459\u001b[0m     \u001b[39m*\u001b[39m\u001b[39m*\u001b[39mcheck_params,\n\u001b[0;32m    460\u001b[0m ):\n\u001b[0;32m    461\u001b[0m     \u001b[39m\"\"\"Validate input data and set or check the `n_features_in_` attribute.\u001b[39;00m\n\u001b[0;32m    462\u001b[0m \n\u001b[0;32m    463\u001b[0m \u001b[39m    Parameters\u001b[39;00m\n\u001b[1;32m   (...)\u001b[0m\n\u001b[0;32m    516\u001b[0m \u001b[39m        validated.\u001b[39;00m\n\u001b[0;32m    517\u001b[0m \u001b[39m    \"\"\"\u001b[39;00m\n\u001b[1;32m--> 518\u001b[0m     \u001b[39mself\u001b[39;49m\u001b[39m.\u001b[39;49m_check_feature_names(X, reset\u001b[39m=\u001b[39;49mreset)\n\u001b[0;32m    520\u001b[0m     \u001b[39mif\u001b[39;00m y \u001b[39mis\u001b[39;00m \u001b[39mNone\u001b[39;00m \u001b[39mand\u001b[39;00m \u001b[39mself\u001b[39m\u001b[39m.\u001b[39m_get_tags()[\u001b[39m\"\u001b[39m\u001b[39mrequires_y\u001b[39m\u001b[39m\"\u001b[39m]:\n\u001b[0;32m    521\u001b[0m         \u001b[39mraise\u001b[39;00m \u001b[39mValueError\u001b[39;00m(\n\u001b[0;32m    522\u001b[0m             \u001b[39mf\u001b[39m\u001b[39m\"\u001b[39m\u001b[39mThis \u001b[39m\u001b[39m{\u001b[39;00m\u001b[39mself\u001b[39m\u001b[39m.\u001b[39m\u001b[39m__class__\u001b[39m\u001b[39m.\u001b[39m\u001b[39m__name__\u001b[39m\u001b[39m}\u001b[39;00m\u001b[39m estimator \u001b[39m\u001b[39m\"\u001b[39m\n\u001b[0;32m    523\u001b[0m             \u001b[39m\"\u001b[39m\u001b[39mrequires y to be passed, but the target y is None.\u001b[39m\u001b[39m\"\u001b[39m\n\u001b[0;32m    524\u001b[0m         )\n",
      "File \u001b[1;32m~\\AppData\\Local\\Packages\\PythonSoftwareFoundation.Python.3.11_qbz5n2kfra8p0\\LocalCache\\local-packages\\Python311\\site-packages\\sklearn\\base.py:451\u001b[0m, in \u001b[0;36mBaseEstimator._check_feature_names\u001b[1;34m(self, X, reset)\u001b[0m\n\u001b[0;32m    446\u001b[0m \u001b[39mif\u001b[39;00m \u001b[39mnot\u001b[39;00m missing_names \u001b[39mand\u001b[39;00m \u001b[39mnot\u001b[39;00m unexpected_names:\n\u001b[0;32m    447\u001b[0m     message \u001b[39m+\u001b[39m\u001b[39m=\u001b[39m (\n\u001b[0;32m    448\u001b[0m         \u001b[39m\"\u001b[39m\u001b[39mFeature names must be in the same order as they were in fit.\u001b[39m\u001b[39m\\n\u001b[39;00m\u001b[39m\"\u001b[39m\n\u001b[0;32m    449\u001b[0m     )\n\u001b[1;32m--> 451\u001b[0m \u001b[39mraise\u001b[39;00m \u001b[39mValueError\u001b[39;00m(message)\n",
      "\u001b[1;31mValueError\u001b[0m: The feature names should match those that were passed during fit.\nFeature names unseen at fit time:\n- h\n- p\n- u\n"
     ]
    }
   ],
   "source": [
    "# Évaluation de la performance du modèle (calcul des scores)\n",
    "print(\"Score d'entrainement:\", GNB.score(X_tr1, y_tr1))\n",
    "print('Score de test:', GNB1.score(X_te1, y_te1))\n",
    "print('Score de la validation croisée:', np.mean(cross_val_score(GNB1, X1, y1, cv=5)))"
   ]
  },
  {
   "attachments": {},
   "cell_type": "markdown",
   "metadata": {},
   "source": [
    "La prédiction n'est pas possible car les caractères \"h\", \"p\" et \"u\" n'ont pas été vus durant la phase d'ajustement du modèle. Ce problème persiste même quand nous augmentons la taille des fragments à 200. Il n'est donc ni judicieux ni possible de prendre des caractères moins fréquents mais plus discriminants."
   ]
  },
  {
   "attachments": {},
   "cell_type": "markdown",
   "metadata": {},
   "source": [
    "### <b> Evolution 2 :</b> : Changement de la taille des fragments"
   ]
  },
  {
   "attachments": {},
   "cell_type": "markdown",
   "metadata": {},
   "source": [
    "Nous avons choisi de représenter les données avec des fragments de taille 15. Peut-être qu'avec des fragments de tailles plus grandes, nous aurions de meilleurs résultats. Nous essayerons donc différentes tailles."
   ]
  },
  {
   "attachments": {},
   "cell_type": "markdown",
   "metadata": {},
   "source": [
    "<b>Fragments de taille 30 <b>"
   ]
  },
  {
   "cell_type": "code",
   "execution_count": 211,
   "metadata": {},
   "outputs": [],
   "source": [
    "# Création de fragment de taille 30\n",
    "lst_frag_it = sliceur(lst_caract_it, 30)                            # Italien\n",
    "#print(\"Nombre de fragments italien : \", len(lst_frag_it))\n",
    "\n",
    "lst_frag_en = sliceur(lst_caract_en, 30)                            # Anglais\n",
    "#print(\"Nombre de fragments anglais : \", len(lst_frag_en))\n",
    "\n",
    "lst_frag_fr = sliceur(lst_caract_fr, 30)                            # Français"
   ]
  },
  {
   "cell_type": "code",
   "execution_count": 212,
   "metadata": {},
   "outputs": [],
   "source": [
    "# Création de dictionnaires contenant les vecteurs représentants chaque caractère\n",
    "dict_frag_it = get_dict_frag(lst_frag_it)                           # Italien\n",
    "#print(f\"\\nItalien : \\n\", dict(list(dict_frag_it.items())[0: 10]))\n",
    "\n",
    "dict_frag_en = get_dict_frag(lst_frag_en)                           # Anglais\n",
    "#print(f\"\\nAnglais : \\n\", dict(list(dict_frag_en.items())[0: 10]))\n",
    "\n",
    "dict_frag_fr = get_dict_frag(lst_frag_fr)                           # Français\n",
    "#print(f\"\\nFrançais : \\n\", dict(list(dict_frag_fr.items())[0: 10]))"
   ]
  },
  {
   "cell_type": "code",
   "execution_count": 213,
   "metadata": {},
   "outputs": [],
   "source": [
    "# Dataframe des fréquences d'apparition de chaque caractère dans les fragments italiens\n",
    "df_italien=pd.DataFrame(dict_frag_it, index = d)\n",
    "df_italien.loc[\"Langue\"] = [\"IT\"]*len(dict_frag_it)\n",
    "df_italien = df_italien.transpose()\n",
    "\n",
    "\n",
    "# Dataframe des fréquences d'apparition de chaque caractère dans les fragments anglais\n",
    "df_anglais=pd.DataFrame(dict_frag_en, index = d)\n",
    "df_anglais.loc[\"Langue\"] = [\"EN\"]*len(dict_frag_en)\n",
    "df_anglais = df_anglais.transpose()\n",
    "\n",
    "# Dataframe des fréquences d'apparition de chaque caractère dans les fragments français\n",
    "df_francais=pd.DataFrame(dict_frag_fr, index = d)\n",
    "df_francais.loc[\"Langue\"] = [\"FR\"]*len(dict_frag_fr)\n",
    "df_francais = df_francais.transpose()"
   ]
  },
  {
   "cell_type": "code",
   "execution_count": 214,
   "metadata": {},
   "outputs": [],
   "source": [
    "frames = (df_italien, df_anglais, df_francais)\n",
    "df_final = pd.concat(frames)\n",
    "df_final = df_final.reset_index(drop=True)\n",
    "#print(df_final)"
   ]
  },
  {
   "cell_type": "code",
   "execution_count": 215,
   "metadata": {},
   "outputs": [
    {
     "name": "stdout",
     "output_type": "stream",
     "text": [
      "(656, 10) (656,)\n"
     ]
    }
   ],
   "source": [
    "# Création du tableau des variables explicatives et de la variable à expliquer\n",
    "y = df_final['Langue']\n",
    "X = df_final.drop(['Langue'] , axis=1)\n",
    "print(X.shape, y.shape)"
   ]
  },
  {
   "cell_type": "code",
   "execution_count": 216,
   "metadata": {},
   "outputs": [
    {
     "name": "stdout",
     "output_type": "stream",
     "text": [
      " Taille de la base des X d'apprentissage : (524, 10) \n",
      " Taille de la base des X de test : (132, 10) \n",
      " Taille de la base y d'apprentissage : (524,) \n",
      " Taille de la base y de test : (132,)\n"
     ]
    }
   ],
   "source": [
    "# Création des bases de données d'apprentissage et des bases de données de test\n",
    "X_tr, X_te, y_tr, y_te = train_test_split(X, y, test_size=0.20, random_state=5)\n",
    "print(\" Taille de la base des X d'apprentissage :\", X_tr.shape, \"\\n Taille de la base des X de test :\", X_te.shape, \"\\n Taille de la base y d'apprentissage :\", y_tr.shape, \"\\n Taille de la base y de test :\", y_te.shape)"
   ]
  },
  {
   "cell_type": "code",
   "execution_count": 217,
   "metadata": {},
   "outputs": [
    {
     "data": {
      "text/html": [
       "<style>#sk-container-id-17 {color: black;background-color: white;}#sk-container-id-17 pre{padding: 0;}#sk-container-id-17 div.sk-toggleable {background-color: white;}#sk-container-id-17 label.sk-toggleable__label {cursor: pointer;display: block;width: 100%;margin-bottom: 0;padding: 0.3em;box-sizing: border-box;text-align: center;}#sk-container-id-17 label.sk-toggleable__label-arrow:before {content: \"▸\";float: left;margin-right: 0.25em;color: #696969;}#sk-container-id-17 label.sk-toggleable__label-arrow:hover:before {color: black;}#sk-container-id-17 div.sk-estimator:hover label.sk-toggleable__label-arrow:before {color: black;}#sk-container-id-17 div.sk-toggleable__content {max-height: 0;max-width: 0;overflow: hidden;text-align: left;background-color: #f0f8ff;}#sk-container-id-17 div.sk-toggleable__content pre {margin: 0.2em;color: black;border-radius: 0.25em;background-color: #f0f8ff;}#sk-container-id-17 input.sk-toggleable__control:checked~div.sk-toggleable__content {max-height: 200px;max-width: 100%;overflow: auto;}#sk-container-id-17 input.sk-toggleable__control:checked~label.sk-toggleable__label-arrow:before {content: \"▾\";}#sk-container-id-17 div.sk-estimator input.sk-toggleable__control:checked~label.sk-toggleable__label {background-color: #d4ebff;}#sk-container-id-17 div.sk-label input.sk-toggleable__control:checked~label.sk-toggleable__label {background-color: #d4ebff;}#sk-container-id-17 input.sk-hidden--visually {border: 0;clip: rect(1px 1px 1px 1px);clip: rect(1px, 1px, 1px, 1px);height: 1px;margin: -1px;overflow: hidden;padding: 0;position: absolute;width: 1px;}#sk-container-id-17 div.sk-estimator {font-family: monospace;background-color: #f0f8ff;border: 1px dotted black;border-radius: 0.25em;box-sizing: border-box;margin-bottom: 0.5em;}#sk-container-id-17 div.sk-estimator:hover {background-color: #d4ebff;}#sk-container-id-17 div.sk-parallel-item::after {content: \"\";width: 100%;border-bottom: 1px solid gray;flex-grow: 1;}#sk-container-id-17 div.sk-label:hover label.sk-toggleable__label {background-color: #d4ebff;}#sk-container-id-17 div.sk-serial::before {content: \"\";position: absolute;border-left: 1px solid gray;box-sizing: border-box;top: 0;bottom: 0;left: 50%;z-index: 0;}#sk-container-id-17 div.sk-serial {display: flex;flex-direction: column;align-items: center;background-color: white;padding-right: 0.2em;padding-left: 0.2em;position: relative;}#sk-container-id-17 div.sk-item {position: relative;z-index: 1;}#sk-container-id-17 div.sk-parallel {display: flex;align-items: stretch;justify-content: center;background-color: white;position: relative;}#sk-container-id-17 div.sk-item::before, #sk-container-id-17 div.sk-parallel-item::before {content: \"\";position: absolute;border-left: 1px solid gray;box-sizing: border-box;top: 0;bottom: 0;left: 50%;z-index: -1;}#sk-container-id-17 div.sk-parallel-item {display: flex;flex-direction: column;z-index: 1;position: relative;background-color: white;}#sk-container-id-17 div.sk-parallel-item:first-child::after {align-self: flex-end;width: 50%;}#sk-container-id-17 div.sk-parallel-item:last-child::after {align-self: flex-start;width: 50%;}#sk-container-id-17 div.sk-parallel-item:only-child::after {width: 0;}#sk-container-id-17 div.sk-dashed-wrapped {border: 1px dashed gray;margin: 0 0.4em 0.5em 0.4em;box-sizing: border-box;padding-bottom: 0.4em;background-color: white;}#sk-container-id-17 div.sk-label label {font-family: monospace;font-weight: bold;display: inline-block;line-height: 1.2em;}#sk-container-id-17 div.sk-label-container {text-align: center;}#sk-container-id-17 div.sk-container {/* jupyter's `normalize.less` sets `[hidden] { display: none; }` but bootstrap.min.css set `[hidden] { display: none !important; }` so we also need the `!important` here to be able to override the default hidden behavior on the sphinx rendered scikit-learn.org. See: https://github.com/scikit-learn/scikit-learn/issues/21755 */display: inline-block !important;position: relative;}#sk-container-id-17 div.sk-text-repr-fallback {display: none;}</style><div id=\"sk-container-id-17\" class=\"sk-top-container\"><div class=\"sk-text-repr-fallback\"><pre>GaussianNB()</pre><b>In a Jupyter environment, please rerun this cell to show the HTML representation or trust the notebook. <br />On GitHub, the HTML representation is unable to render, please try loading this page with nbviewer.org.</b></div><div class=\"sk-container\" hidden><div class=\"sk-item\"><div class=\"sk-estimator sk-toggleable\"><input class=\"sk-toggleable__control sk-hidden--visually\" id=\"sk-estimator-id-17\" type=\"checkbox\" checked><label for=\"sk-estimator-id-17\" class=\"sk-toggleable__label sk-toggleable__label-arrow\">GaussianNB</label><div class=\"sk-toggleable__content\"><pre>GaussianNB()</pre></div></div></div></div></div>"
      ],
      "text/plain": [
       "GaussianNB()"
      ]
     },
     "execution_count": 217,
     "metadata": {},
     "output_type": "execute_result"
    }
   ],
   "source": [
    "GNB = GaussianNB()\n",
    "GNB.fit(X_tr, y_tr)"
   ]
  },
  {
   "cell_type": "code",
   "execution_count": 218,
   "metadata": {},
   "outputs": [
    {
     "name": "stdout",
     "output_type": "stream",
     "text": [
      "Score d'entrainement: 0.7709923664122137\n",
      "Score de test: 0.7878787878787878\n",
      "Score de la validation croisée: 0.7407818644459866\n"
     ]
    }
   ],
   "source": [
    "# Évaluation de la performance du modèle (calcul des scores)\n",
    "print(\"Score d'entrainement:\", GNB.score(X_tr, y_tr))\n",
    "print('Score de test:', GNB.score(X_te, y_te))\n",
    "print('Score de la validation croisée:', np.mean(cross_val_score(GNB, X, y, cv=5)))"
   ]
  },
  {
   "attachments": {},
   "cell_type": "markdown",
   "metadata": {},
   "source": [
    "Nous constatons que nous avons de meilleurs scores en améliorant la taille des fragments. Nous pourrions essayer d'augmenter encore la taille des fragments."
   ]
  },
  {
   "attachments": {},
   "cell_type": "markdown",
   "metadata": {},
   "source": [
    "<b>Fragments de taille 50<b>"
   ]
  },
  {
   "cell_type": "code",
   "execution_count": 219,
   "metadata": {},
   "outputs": [],
   "source": [
    "# Création de fragment de taille 15\n",
    "lst_frag_it = sliceur(lst_caract_it, 50)                            # Italien\n",
    "#print(\"Nombre de fragments italien : \", len(lst_frag_it))\n",
    "\n",
    "lst_frag_en = sliceur(lst_caract_en, 50)                            # Anglais\n",
    "#print(\"Nombre de fragments anglais : \", len(lst_frag_en))\n",
    "\n",
    "lst_frag_fr = sliceur(lst_caract_fr, 50)                            # Français\n"
   ]
  },
  {
   "cell_type": "code",
   "execution_count": 220,
   "metadata": {},
   "outputs": [],
   "source": [
    "# Création de dictionnaires contenant les vecteurs représentants chaque caractère\n",
    "dict_frag_it = get_dict_frag(lst_frag_it)                           # Italien\n",
    "#print(f\"\\nItalien : \\n\", dict(list(dict_frag_it.items())[0: 10]))\n",
    "\n",
    "dict_frag_en = get_dict_frag(lst_frag_en)                           # Anglais\n",
    "#print(f\"\\nAnglais : \\n\", dict(list(dict_frag_en.items())[0: 10]))\n",
    "\n",
    "dict_frag_fr = get_dict_frag(lst_frag_fr)                           # Français\n",
    "#print(f\"\\nFrançais : \\n\", dict(list(dict_frag_fr.items())[0: 10]))"
   ]
  },
  {
   "cell_type": "code",
   "execution_count": 221,
   "metadata": {},
   "outputs": [],
   "source": [
    "# Dataframe des fréquences d'apparition de chaque caractère dans les fragments italiens\n",
    "df_italien=pd.DataFrame(dict_frag_it, index = d)\n",
    "df_italien.loc[\"Langue\"] = [\"IT\"]*len(dict_frag_it)\n",
    "df_italien = df_italien.transpose()\n",
    "\n",
    "\n",
    "# Dataframe des fréquences d'apparition de chaque caractère dans les fragments anglais\n",
    "df_anglais=pd.DataFrame(dict_frag_en, index = d)\n",
    "df_anglais.loc[\"Langue\"] = [\"EN\"]*len(dict_frag_en)\n",
    "df_anglais = df_anglais.transpose()\n",
    "\n",
    "# Dataframe des fréquences d'apparition de chaque caractère dans les fragments français\n",
    "df_francais=pd.DataFrame(dict_frag_fr, index = d)\n",
    "df_francais.loc[\"Langue\"] = [\"FR\"]*len(dict_frag_fr)\n",
    "df_francais = df_francais.transpose()"
   ]
  },
  {
   "cell_type": "code",
   "execution_count": 222,
   "metadata": {},
   "outputs": [],
   "source": [
    "frames = (df_italien, df_anglais, df_francais)\n",
    "df_final = pd.concat(frames)\n",
    "df_final = df_final.reset_index(drop=True)\n",
    "#print(df_final)"
   ]
  },
  {
   "cell_type": "code",
   "execution_count": 223,
   "metadata": {},
   "outputs": [
    {
     "name": "stdout",
     "output_type": "stream",
     "text": [
      "(393, 10) (393,)\n"
     ]
    }
   ],
   "source": [
    "# Création du tableau des variables explicatives et de la variable à expliquer\n",
    "y = df_final['Langue']\n",
    "X = df_final.drop(['Langue'] , axis=1)\n",
    "print(X.shape, y.shape)"
   ]
  },
  {
   "cell_type": "code",
   "execution_count": 224,
   "metadata": {},
   "outputs": [
    {
     "name": "stdout",
     "output_type": "stream",
     "text": [
      " Taille de la base des X d'apprentissage : (314, 10) \n",
      " Taille de la base des X de test : (79, 10) \n",
      " Taille de la base y d'apprentissage : (314,) \n",
      " Taille de la base y de test : (79,)\n"
     ]
    }
   ],
   "source": [
    "# Création des bases de données d'apprentissage et des bases de données de test\n",
    "X_tr, X_te, y_tr, y_te = train_test_split(X, y, test_size=0.20, random_state=5)\n",
    "print(\" Taille de la base des X d'apprentissage :\", X_tr.shape, \"\\n Taille de la base des X de test :\", X_te.shape, \"\\n Taille de la base y d'apprentissage :\", y_tr.shape, \"\\n Taille de la base y de test :\", y_te.shape)"
   ]
  },
  {
   "cell_type": "code",
   "execution_count": 225,
   "metadata": {},
   "outputs": [
    {
     "data": {
      "text/html": [
       "<style>#sk-container-id-18 {color: black;background-color: white;}#sk-container-id-18 pre{padding: 0;}#sk-container-id-18 div.sk-toggleable {background-color: white;}#sk-container-id-18 label.sk-toggleable__label {cursor: pointer;display: block;width: 100%;margin-bottom: 0;padding: 0.3em;box-sizing: border-box;text-align: center;}#sk-container-id-18 label.sk-toggleable__label-arrow:before {content: \"▸\";float: left;margin-right: 0.25em;color: #696969;}#sk-container-id-18 label.sk-toggleable__label-arrow:hover:before {color: black;}#sk-container-id-18 div.sk-estimator:hover label.sk-toggleable__label-arrow:before {color: black;}#sk-container-id-18 div.sk-toggleable__content {max-height: 0;max-width: 0;overflow: hidden;text-align: left;background-color: #f0f8ff;}#sk-container-id-18 div.sk-toggleable__content pre {margin: 0.2em;color: black;border-radius: 0.25em;background-color: #f0f8ff;}#sk-container-id-18 input.sk-toggleable__control:checked~div.sk-toggleable__content {max-height: 200px;max-width: 100%;overflow: auto;}#sk-container-id-18 input.sk-toggleable__control:checked~label.sk-toggleable__label-arrow:before {content: \"▾\";}#sk-container-id-18 div.sk-estimator input.sk-toggleable__control:checked~label.sk-toggleable__label {background-color: #d4ebff;}#sk-container-id-18 div.sk-label input.sk-toggleable__control:checked~label.sk-toggleable__label {background-color: #d4ebff;}#sk-container-id-18 input.sk-hidden--visually {border: 0;clip: rect(1px 1px 1px 1px);clip: rect(1px, 1px, 1px, 1px);height: 1px;margin: -1px;overflow: hidden;padding: 0;position: absolute;width: 1px;}#sk-container-id-18 div.sk-estimator {font-family: monospace;background-color: #f0f8ff;border: 1px dotted black;border-radius: 0.25em;box-sizing: border-box;margin-bottom: 0.5em;}#sk-container-id-18 div.sk-estimator:hover {background-color: #d4ebff;}#sk-container-id-18 div.sk-parallel-item::after {content: \"\";width: 100%;border-bottom: 1px solid gray;flex-grow: 1;}#sk-container-id-18 div.sk-label:hover label.sk-toggleable__label {background-color: #d4ebff;}#sk-container-id-18 div.sk-serial::before {content: \"\";position: absolute;border-left: 1px solid gray;box-sizing: border-box;top: 0;bottom: 0;left: 50%;z-index: 0;}#sk-container-id-18 div.sk-serial {display: flex;flex-direction: column;align-items: center;background-color: white;padding-right: 0.2em;padding-left: 0.2em;position: relative;}#sk-container-id-18 div.sk-item {position: relative;z-index: 1;}#sk-container-id-18 div.sk-parallel {display: flex;align-items: stretch;justify-content: center;background-color: white;position: relative;}#sk-container-id-18 div.sk-item::before, #sk-container-id-18 div.sk-parallel-item::before {content: \"\";position: absolute;border-left: 1px solid gray;box-sizing: border-box;top: 0;bottom: 0;left: 50%;z-index: -1;}#sk-container-id-18 div.sk-parallel-item {display: flex;flex-direction: column;z-index: 1;position: relative;background-color: white;}#sk-container-id-18 div.sk-parallel-item:first-child::after {align-self: flex-end;width: 50%;}#sk-container-id-18 div.sk-parallel-item:last-child::after {align-self: flex-start;width: 50%;}#sk-container-id-18 div.sk-parallel-item:only-child::after {width: 0;}#sk-container-id-18 div.sk-dashed-wrapped {border: 1px dashed gray;margin: 0 0.4em 0.5em 0.4em;box-sizing: border-box;padding-bottom: 0.4em;background-color: white;}#sk-container-id-18 div.sk-label label {font-family: monospace;font-weight: bold;display: inline-block;line-height: 1.2em;}#sk-container-id-18 div.sk-label-container {text-align: center;}#sk-container-id-18 div.sk-container {/* jupyter's `normalize.less` sets `[hidden] { display: none; }` but bootstrap.min.css set `[hidden] { display: none !important; }` so we also need the `!important` here to be able to override the default hidden behavior on the sphinx rendered scikit-learn.org. See: https://github.com/scikit-learn/scikit-learn/issues/21755 */display: inline-block !important;position: relative;}#sk-container-id-18 div.sk-text-repr-fallback {display: none;}</style><div id=\"sk-container-id-18\" class=\"sk-top-container\"><div class=\"sk-text-repr-fallback\"><pre>GaussianNB()</pre><b>In a Jupyter environment, please rerun this cell to show the HTML representation or trust the notebook. <br />On GitHub, the HTML representation is unable to render, please try loading this page with nbviewer.org.</b></div><div class=\"sk-container\" hidden><div class=\"sk-item\"><div class=\"sk-estimator sk-toggleable\"><input class=\"sk-toggleable__control sk-hidden--visually\" id=\"sk-estimator-id-18\" type=\"checkbox\" checked><label for=\"sk-estimator-id-18\" class=\"sk-toggleable__label sk-toggleable__label-arrow\">GaussianNB</label><div class=\"sk-toggleable__content\"><pre>GaussianNB()</pre></div></div></div></div></div>"
      ],
      "text/plain": [
       "GaussianNB()"
      ]
     },
     "execution_count": 225,
     "metadata": {},
     "output_type": "execute_result"
    }
   ],
   "source": [
    "GNB = GaussianNB()\n",
    "GNB.fit(X_tr, y_tr)"
   ]
  },
  {
   "cell_type": "code",
   "execution_count": 226,
   "metadata": {},
   "outputs": [
    {
     "name": "stdout",
     "output_type": "stream",
     "text": [
      "Score d'entrainement: 0.8375796178343949\n",
      "Score de test: 0.810126582278481\n",
      "Score de la validation croisée: 0.8166828951639078\n"
     ]
    }
   ],
   "source": [
    "# Évaluation de la performance du modèle (calcul des scores)\n",
    "print(\"Score d'entrainement:\", GNB.score(X_tr, y_tr))\n",
    "print('Score de test:', GNB.score(X_te, y_te))\n",
    "print('Score de la validation croisée:', np.mean(cross_val_score(GNB, X, y, cv=5)))"
   ]
  },
  {
   "attachments": {},
   "cell_type": "markdown",
   "metadata": {},
   "source": [
    "Nous obtenons des résultats encore meilleurs. Des fragments plus grands permerttent donc effectiment d'améliorer la qualité du modèle."
   ]
  },
  {
   "attachments": {},
   "cell_type": "markdown",
   "metadata": {},
   "source": [
    "### <b> Evolution 3:</b> Essai avec la langue Allemande"
   ]
  },
  {
   "attachments": {},
   "cell_type": "markdown",
   "metadata": {},
   "source": []
  },
  {
   "cell_type": "code",
   "execution_count": 227,
   "metadata": {},
   "outputs": [],
   "source": [
    "# Scrapping du texte en Allemand\n",
    "URL_all = \"https://de.wikipedia.org/wiki/Adolf_Hitler\"    "
   ]
  },
  {
   "cell_type": "code",
   "execution_count": 228,
   "metadata": {},
   "outputs": [
    {
     "name": "stdout",
     "output_type": "stream",
     "text": [
      "Im Zweiten Weltkrieg verübten die Nationalsozialisten und ihre Helfershelfer zahlreiche Massenverbrechen und Völkermorde. Bereits im Sommer 1939 erteilte Hitler die Weisung, die „Erwachseneneuthanasie“ vorzubereiten. Zwischen September 1939 und August 1941 wurden in der „Aktion T4“ über 70.000 psychisch kranke sowie geistig und körperlich behinderte Menschen, bis Kriegsende insgesamt durch „Euthanasie“ über 200.000 Menschen systematisch ermordet. Hitlers Antisemitismus und Rassismus gipfelte schließlich im Holocaust. In diesem wurden etwa 5,6 bis 6,3 Millionen Juden, im Porajmos bis zu 500.000 Sinti und Roma ermordet. Hitler autorisierte die wichtigsten Schritte des Judenmordes und ließ sich über den Verlauf informieren. Seine verbrecherische Politik führte zu vielen Millionen Kriegstoten und zur Zerstörung weiter Teile Deutschlands und Europas.\n",
      "\n"
     ]
    }
   ],
   "source": [
    "# Collecte du texte en Allemand \n",
    "paragrs_all = get_text(URL_all, 14)                                 \n",
    "print(paragrs_all[5])"
   ]
  },
  {
   "cell_type": "code",
   "execution_count": 229,
   "metadata": {},
   "outputs": [
    {
     "name": "stdout",
     "output_type": "stream",
     "text": [
      "['a', 'd', 'o', 'l', 'f', 'h', 'i', 't', 'l', 'e', 'r', 'a', 'p', 'r', 'i', 'l', 'i', 'n', 'b', 'r', 'a', 'u', 'n', 'a', 'u', 'a', 'm', 'i', 'n', 'n', 'ö', 's', 't', 'e', 'r', 'r', 'e', 'i', 'c', 'h', 'u', 'n', 'g', 'a']\n"
     ]
    }
   ],
   "source": [
    "## Nettoyage des données\n",
    "# Liste des caractères alphabétiques présents dans le texte allemand.\n",
    "lst_caract_all = set_forme(paragrs_all)                               \n",
    "print(lst_caract_all[0: 44])"
   ]
  },
  {
   "cell_type": "code",
   "execution_count": 230,
   "metadata": {},
   "outputs": [
    {
     "name": "stdout",
     "output_type": "stream",
     "text": [
      "Allemand: \n",
      " {'e': 1340, 'n': 719, 'r': 667, 'i': 635, 't': 553, 's': 547, 'a': 455, 'h': 357, 'l': 354, 'd': 348, 'u': 332, 'm': 227, 'o': 226, 'g': 217, 'c': 215, 'b': 156, 'f': 124, 'w': 110, 'z': 104, 'k': 92, 'v': 92, 'p': 78, 'ü': 45, 'j': 35, 'ö': 31, 'ä': 30, 'ß': 20, 'y': 4, 'á': 1}\n"
     ]
    }
   ],
   "source": [
    "# Ensemble de caractères présents dans le texte allemand\n",
    "dict_all = get_count_caract(lst_caract_all)                           \n",
    "print(f\"Allemand: \\n\", dict_all)"
   ]
  },
  {
   "cell_type": "code",
   "execution_count": 231,
   "metadata": {},
   "outputs": [
    {
     "name": "stdout",
     "output_type": "stream",
     "text": [
      "Allemand: \n",
      " {'e': 16, 'n': 8, 'r': 8, 'i': 7, 't': 6, 's': 6, 'a': 5, 'h': 4, 'l': 4, 'd': 4, 'u': 4, 'm': 2, 'o': 2, 'g': 2, 'c': 2, 'b': 1, 'f': 1, 'w': 1, 'z': 1, 'k': 1, 'v': 1, 'p': 0, 'ü': 0, 'j': 0, 'ö': 0, 'ä': 0, 'ß': 0, 'y': 0, 'á': 0}\n"
     ]
    }
   ],
   "source": [
    "# Ensemble de caractères présents et frequence d'apparition du caractère\n",
    "fq_dict_all = get_freq_caract(lst_caract_all)                        \n",
    "print(f\"Allemand: \\n\", fq_dict_all)"
   ]
  },
  {
   "cell_type": "code",
   "execution_count": 232,
   "metadata": {},
   "outputs": [
    {
     "name": "stdout",
     "output_type": "stream",
     "text": [
      "           i   a   e  o  l  n  t  r  s  d  ...    â    ʃ    ʁ    ə    ɡ    ë  \\\n",
      "Italien   11  11  10  9  7  7  6  6  5  4  ...  NaN  NaN  NaN  NaN  NaN  NaN   \n",
      "Anglais    7   8  12  7  3  7  8  6  7  4  ...  NaN  NaN  NaN  NaN  NaN  NaN   \n",
      "Francais   8   8  13  4  7  7  6  7  6  4  ...  0.0  0.0  0.0  0.0  0.0  0.0   \n",
      "Allemand   7   5  16  2  4  8  6  8  6  4  ...  NaN  NaN  NaN  NaN  NaN  NaN   \n",
      "\n",
      "            ü    ö    ä    ß  \n",
      "Italien   NaN  NaN  NaN  NaN  \n",
      "Anglais   NaN  NaN  NaN  NaN  \n",
      "Francais  NaN  NaN  NaN  NaN  \n",
      "Allemand  0.0  0.0  0.0  0.0  \n",
      "\n",
      "[4 rows x 47 columns]\n"
     ]
    }
   ],
   "source": [
    "# Dataframe des fréquences d'apparition de chaque caractère par langue.\n",
    "dictio_list = [fq_dict_it, fq_dict_en, fq_dict_fr, fq_dict_all]\n",
    "dff = pd.DataFrame(dictio_list, index = [\"Italien\", \"Anglais\", \"Francais\", \"Allemand\"])\n",
    "print(dff)"
   ]
  },
  {
   "cell_type": "code",
   "execution_count": 233,
   "metadata": {},
   "outputs": [
    {
     "name": "stdout",
     "output_type": "stream",
     "text": [
      "           i   a   e  o  l  n  t  r  s  d  ...  u  p  m  g  v  f  z  b  h  j\n",
      "Italien   11  11  10  9  7  7  6  6  5  4  ...  2  2  2  1  1  1  0  0  0  0\n",
      "Anglais    7   8  12  7  3  7  8  6  7  4  ...  2  1  2  1  0  2  0  1  5  0\n",
      "Francais   8   8  13  4  7  7  6  7  6  4  ...  5  3  2  1  0  1  0  0  0  0\n",
      "Allemand   7   5  16  2  4  8  6  8  6  4  ...  4  0  2  2  1  1  1  1  4  0\n",
      "\n",
      "[4 rows x 21 columns]\n"
     ]
    }
   ],
   "source": [
    "# Réduction du dataframe aux caractères qui apparaissent au moins une fois dans chaque texte.\n",
    "caracteres_rares = [col for col in dff.columns if dff[col].isnull().any()]\n",
    "dff.drop(caracteres_rares, axis=1, inplace=True)\n",
    "print(dff)"
   ]
  },
  {
   "cell_type": "code",
   "execution_count": 234,
   "metadata": {},
   "outputs": [
    {
     "name": "stdout",
     "output_type": "stream",
     "text": [
      "['a', 'b', 'c', 'd', 'e', 'f', 'g', 'h', 'i', 'j', 'l', 'm', 'n', 'o', 'p', 'r', 's', 't', 'u', 'v', 'z']\n"
     ]
    }
   ],
   "source": [
    "# Liste des caractères présents dans les quatre langues\n",
    "caracteres = dff.columns.tolist()\n",
    "caracteres.sort()\n",
    "print(caracteres)"
   ]
  },
  {
   "cell_type": "code",
   "execution_count": 235,
   "metadata": {},
   "outputs": [
    {
     "name": "stdout",
     "output_type": "stream",
     "text": [
      "{'i': (8.25, 4), 'a': (8.0, 3), 'e': (12.75, 3), 'o': (5.5, 5), 'l': (5.25, 4), 'n': (7.25, 0), 't': (6.5, 2), 'r': (6.75, 1), 's': (6.0, 2), 'd': (4.0, 0), 'c': (2.5, 1), 'u': (3.25, 3), 'p': (1.5, 2), 'm': (2.0, 0), 'g': (1.25, 0), 'v': (0.5, 1), 'f': (1.25, 1), 'z': (0.25, 0), 'b': (0.5, 1), 'h': (2.25, 5), 'j': (0.0, 0)}\n"
     ]
    }
   ],
   "source": [
    "# Pour chaque caractère nous calculons la moyenne des fréquences k et le plus grand écart de fréquences d\n",
    "dtframe1 = dict()\n",
    "for i in dff:\n",
    "    k1 = dff[i].mean()\n",
    "    a1 = abs(dff[i][0] - dff[i][1])\n",
    "    b1 = abs(dff[i][0] - dff[i][2])\n",
    "    c1 = abs(dff[i][1] - dff[i][2])\n",
    "    d1 = max(a1, b1, c1)\n",
    "    dtframe1[i] = (k1, d1)\n",
    "print(dtframe1)"
   ]
  },
  {
   "cell_type": "code",
   "execution_count": 236,
   "metadata": {},
   "outputs": [
    {
     "name": "stdout",
     "output_type": "stream",
     "text": [
      "4.071428571428571\n"
     ]
    }
   ],
   "source": [
    "# Calcul de la moyenne des moyennes\n",
    "moyennes1 = list()\n",
    "for i in dtframe1:\n",
    "    moyennes1.append(dtframe1[i][0])\n",
    "seuil1 = sum(moyennes1)/len(moyennes1)\n",
    "print(seuil1)"
   ]
  },
  {
   "cell_type": "code",
   "execution_count": 237,
   "metadata": {},
   "outputs": [
    {
     "name": "stdout",
     "output_type": "stream",
     "text": [
      "{'i': 4, 'a': 3, 'e': 3, 'o': 5, 'l': 4, 'n': 0, 't': 2, 'r': 1, 's': 2}\n"
     ]
    }
   ],
   "source": [
    "# Suppression des caractères dont la moyenne est en dessous du seuil\n",
    "\n",
    "dicoo1 = dict()\n",
    "for i in dtframe1:\n",
    "    if dtframe1[i][0] > seuil1:\n",
    "        dicoo1[i] = dtframe1[i][1]\n",
    "print(dicoo1)"
   ]
  },
  {
   "cell_type": "code",
   "execution_count": 238,
   "metadata": {},
   "outputs": [
    {
     "name": "stdout",
     "output_type": "stream",
     "text": [
      "['i', 'a', 'e', 'o', 'l', 't', 's'] 7\n"
     ]
    }
   ],
   "source": [
    "# Suppression des caractères dont l'écart maximal est en dessous de 2\n",
    "h = list()\n",
    "for i in dicoo1:\n",
    "    if dicoo1[i] >= 2:\n",
    "        h.append(i)\n",
    "print(h, len(h))"
   ]
  },
  {
   "cell_type": "code",
   "execution_count": 239,
   "metadata": {},
   "outputs": [
    {
     "name": "stdout",
     "output_type": "stream",
     "text": [
      "Nombre de fragments allemand :  162\n"
     ]
    }
   ],
   "source": [
    "# Création de fragment de taille 15 pour l'Allemand\n",
    "lst_frag_it = sliceur(lst_caract_it, 50)                            # Italien\n",
    "#print(\"Nombre de fragments italien : \", len(lst_frag_it))\n",
    "\n",
    "lst_frag_en = sliceur(lst_caract_en, 50)                            # Anglais\n",
    "#print(\"Nombre de fragments anglais : \", len(lst_frag_en))\n",
    "\n",
    "lst_frag_fr = sliceur(lst_caract_fr, 50)                            # Français\n",
    "    \n",
    "lst_frag_all = sliceur(lst_caract_all, 50)                          # Allemand \n",
    "print(\"Nombre de fragments allemand : \", len(lst_frag_all))"
   ]
  },
  {
   "cell_type": "code",
   "execution_count": 240,
   "metadata": {},
   "outputs": [
    {
     "name": "stdout",
     "output_type": "stream",
     "text": [
      "\n",
      "Allemand : \n",
      " {'Fragment 1': (14, 6, 4, 12, 6, 2, 4, 2, 4, 6), 'Fragment 2': (8, 10, 4, 14, 10, 6, 2, 8, 6, 2), 'Fragment 3': (0, 16, 6, 12, 0, 4, 0, 8, 8, 4), 'Fragment 4': (6, 16, 4, 8, 2, 4, 0, 8, 8, 4), 'Fragment 5': (10, 12, 4, 12, 4, 4, 2, 10, 10, 2), 'Fragment 6': (4, 16, 6, 6, 0, 4, 4, 6, 6, 6), 'Fragment 7': (4, 16, 2, 14, 2, 0, 2, 6, 6, 4), 'Fragment 8': (6, 14, 4, 12, 0, 2, 4, 12, 8, 4), 'Fragment 9': (8, 18, 2, 8, 4, 8, 0, 6, 6, 6), 'Fragment 10': (4, 8, 6, 12, 8, 6, 4, 10, 4, 6)}\n"
     ]
    }
   ],
   "source": [
    "# Création de dictionnaires contenant les vecteurs représentants chaque caractère\n",
    "dict_frag_it = get_dict_frag(lst_frag_it)                           # Italien\n",
    "#print(f\"\\nItalien : \\n\", dict(list(dict_frag_it.items())[0: 10]))\n",
    "\n",
    "dict_frag_en = get_dict_frag(lst_frag_en)                           # Anglais\n",
    "#print(f\"\\nAnglais : \\n\", dict(list(dict_frag_en.items())[0: 10]))\n",
    "\n",
    "dict_frag_fr = get_dict_frag(lst_frag_fr)                           # Français\n",
    "#print(f\"\\nFrançais : \\n\", dict(list(dict_frag_fr.items())[0: 10]))\n",
    "\n",
    "dict_frag_all = get_dict_frag(lst_frag_all)                         # Allemand         \n",
    "print(f\"\\nAllemand : \\n\", dict(list(dict_frag_all.items())[0: 10]))\n"
   ]
  },
  {
   "cell_type": "code",
   "execution_count": 241,
   "metadata": {},
   "outputs": [],
   "source": [
    "# Dataframe des fréquences d'apparition de chaque caractère dans les fragments italiens\n",
    "df_italien=pd.DataFrame(dict_frag_it, index = d)\n",
    "df_italien.loc[\"Langue\"] = [\"IT\"]*len(dict_frag_it)\n",
    "df_italien = df_italien.transpose()\n",
    "\n",
    "\n",
    "# Dataframe des fréquences d'apparition de chaque caractère dans les fragments anglais\n",
    "df_anglais=pd.DataFrame(dict_frag_en, index = d)\n",
    "df_anglais.loc[\"Langue\"] = [\"EN\"]*len(dict_frag_en)\n",
    "df_anglais = df_anglais.transpose()\n",
    "\n",
    "# Dataframe des fréquences d'apparition de chaque caractère dans les fragments français\n",
    "df_francais=pd.DataFrame(dict_frag_fr, index = d)\n",
    "df_francais.loc[\"Langue\"] = [\"FR\"]*len(dict_frag_fr)\n",
    "df_francais = df_francais.transpose()\n",
    "\n",
    "# Dataframe des fréquences d'apparition de chaque caractère dans les fragments allemands\n",
    "df_allemand=pd.DataFrame(dict_frag_all, index = d)\n",
    "df_allemand.loc[\"Langue\"] = [\"ALL\"]*len(dict_frag_all)\n",
    "df_allemand = df_allemand.transpose()"
   ]
  },
  {
   "cell_type": "code",
   "execution_count": 242,
   "metadata": {},
   "outputs": [],
   "source": [
    "frames4 = (df_italien, df_anglais, df_francais,df_allemand)\n",
    "df_final4 = pd.concat(frames4)\n",
    "df_final4 = df_final4.reset_index(drop=True)\n"
   ]
  },
  {
   "cell_type": "code",
   "execution_count": 243,
   "metadata": {},
   "outputs": [
    {
     "name": "stdout",
     "output_type": "stream",
     "text": [
      "(555, 10) (555,)\n"
     ]
    }
   ],
   "source": [
    "# Création du tableau des variables explicatives et de la variable à expliquer\n",
    "y4 = df_final4['Langue']\n",
    "X4 = df_final4.drop(['Langue'] , axis=1)\n",
    "print(X4.shape, y4.shape)"
   ]
  },
  {
   "cell_type": "code",
   "execution_count": 244,
   "metadata": {},
   "outputs": [
    {
     "name": "stdout",
     "output_type": "stream",
     "text": [
      " Taille de la base des X1 d'apprentissage : (444, 10) \n",
      " Taille de la base des X1 de test : (111, 10) \n",
      " Taille de la base y1 d'apprentissage : (444,) \n",
      " Taille de la base y1 de test : (111,)\n"
     ]
    }
   ],
   "source": [
    "# Création des bases de données d'apprentissage et des bases de données de test\n",
    "X_tr4, X_te4, y_tr4, y_te4 = train_test_split(X4, y4, test_size=0.20, random_state=5)\n",
    "print(\" Taille de la base des X1 d'apprentissage :\", X_tr4.shape, \"\\n Taille de la base des X1 de test :\", X_te4.shape, \"\\n Taille de la base y1 d'apprentissage :\", y_tr4.shape, \"\\n Taille de la base y1 de test :\", y_te4.shape)"
   ]
  },
  {
   "cell_type": "code",
   "execution_count": 245,
   "metadata": {},
   "outputs": [
    {
     "data": {
      "text/html": [
       "<style>#sk-container-id-19 {color: black;background-color: white;}#sk-container-id-19 pre{padding: 0;}#sk-container-id-19 div.sk-toggleable {background-color: white;}#sk-container-id-19 label.sk-toggleable__label {cursor: pointer;display: block;width: 100%;margin-bottom: 0;padding: 0.3em;box-sizing: border-box;text-align: center;}#sk-container-id-19 label.sk-toggleable__label-arrow:before {content: \"▸\";float: left;margin-right: 0.25em;color: #696969;}#sk-container-id-19 label.sk-toggleable__label-arrow:hover:before {color: black;}#sk-container-id-19 div.sk-estimator:hover label.sk-toggleable__label-arrow:before {color: black;}#sk-container-id-19 div.sk-toggleable__content {max-height: 0;max-width: 0;overflow: hidden;text-align: left;background-color: #f0f8ff;}#sk-container-id-19 div.sk-toggleable__content pre {margin: 0.2em;color: black;border-radius: 0.25em;background-color: #f0f8ff;}#sk-container-id-19 input.sk-toggleable__control:checked~div.sk-toggleable__content {max-height: 200px;max-width: 100%;overflow: auto;}#sk-container-id-19 input.sk-toggleable__control:checked~label.sk-toggleable__label-arrow:before {content: \"▾\";}#sk-container-id-19 div.sk-estimator input.sk-toggleable__control:checked~label.sk-toggleable__label {background-color: #d4ebff;}#sk-container-id-19 div.sk-label input.sk-toggleable__control:checked~label.sk-toggleable__label {background-color: #d4ebff;}#sk-container-id-19 input.sk-hidden--visually {border: 0;clip: rect(1px 1px 1px 1px);clip: rect(1px, 1px, 1px, 1px);height: 1px;margin: -1px;overflow: hidden;padding: 0;position: absolute;width: 1px;}#sk-container-id-19 div.sk-estimator {font-family: monospace;background-color: #f0f8ff;border: 1px dotted black;border-radius: 0.25em;box-sizing: border-box;margin-bottom: 0.5em;}#sk-container-id-19 div.sk-estimator:hover {background-color: #d4ebff;}#sk-container-id-19 div.sk-parallel-item::after {content: \"\";width: 100%;border-bottom: 1px solid gray;flex-grow: 1;}#sk-container-id-19 div.sk-label:hover label.sk-toggleable__label {background-color: #d4ebff;}#sk-container-id-19 div.sk-serial::before {content: \"\";position: absolute;border-left: 1px solid gray;box-sizing: border-box;top: 0;bottom: 0;left: 50%;z-index: 0;}#sk-container-id-19 div.sk-serial {display: flex;flex-direction: column;align-items: center;background-color: white;padding-right: 0.2em;padding-left: 0.2em;position: relative;}#sk-container-id-19 div.sk-item {position: relative;z-index: 1;}#sk-container-id-19 div.sk-parallel {display: flex;align-items: stretch;justify-content: center;background-color: white;position: relative;}#sk-container-id-19 div.sk-item::before, #sk-container-id-19 div.sk-parallel-item::before {content: \"\";position: absolute;border-left: 1px solid gray;box-sizing: border-box;top: 0;bottom: 0;left: 50%;z-index: -1;}#sk-container-id-19 div.sk-parallel-item {display: flex;flex-direction: column;z-index: 1;position: relative;background-color: white;}#sk-container-id-19 div.sk-parallel-item:first-child::after {align-self: flex-end;width: 50%;}#sk-container-id-19 div.sk-parallel-item:last-child::after {align-self: flex-start;width: 50%;}#sk-container-id-19 div.sk-parallel-item:only-child::after {width: 0;}#sk-container-id-19 div.sk-dashed-wrapped {border: 1px dashed gray;margin: 0 0.4em 0.5em 0.4em;box-sizing: border-box;padding-bottom: 0.4em;background-color: white;}#sk-container-id-19 div.sk-label label {font-family: monospace;font-weight: bold;display: inline-block;line-height: 1.2em;}#sk-container-id-19 div.sk-label-container {text-align: center;}#sk-container-id-19 div.sk-container {/* jupyter's `normalize.less` sets `[hidden] { display: none; }` but bootstrap.min.css set `[hidden] { display: none !important; }` so we also need the `!important` here to be able to override the default hidden behavior on the sphinx rendered scikit-learn.org. See: https://github.com/scikit-learn/scikit-learn/issues/21755 */display: inline-block !important;position: relative;}#sk-container-id-19 div.sk-text-repr-fallback {display: none;}</style><div id=\"sk-container-id-19\" class=\"sk-top-container\"><div class=\"sk-text-repr-fallback\"><pre>GaussianNB()</pre><b>In a Jupyter environment, please rerun this cell to show the HTML representation or trust the notebook. <br />On GitHub, the HTML representation is unable to render, please try loading this page with nbviewer.org.</b></div><div class=\"sk-container\" hidden><div class=\"sk-item\"><div class=\"sk-estimator sk-toggleable\"><input class=\"sk-toggleable__control sk-hidden--visually\" id=\"sk-estimator-id-19\" type=\"checkbox\" checked><label for=\"sk-estimator-id-19\" class=\"sk-toggleable__label sk-toggleable__label-arrow\">GaussianNB</label><div class=\"sk-toggleable__content\"><pre>GaussianNB()</pre></div></div></div></div></div>"
      ],
      "text/plain": [
       "GaussianNB()"
      ]
     },
     "execution_count": 245,
     "metadata": {},
     "output_type": "execute_result"
    }
   ],
   "source": [
    "GNB4 = GaussianNB()\n",
    "GNB4.fit(X_tr4, y_tr4)"
   ]
  },
  {
   "cell_type": "code",
   "execution_count": 246,
   "metadata": {},
   "outputs": [
    {
     "name": "stdout",
     "output_type": "stream",
     "text": [
      "Score d'entrainement: 0.7815315315315315\n",
      "Score de test: 0.7297297297297297\n",
      "Score de la validation croisée: 0.7567567567567568\n"
     ]
    }
   ],
   "source": [
    "# Évaluation de la performance du modèle (calcul des scores)\n",
    "print(\"Score d'entrainement:\", GNB4.score(X_tr4, y_tr4))\n",
    "print('Score de test:', GNB4.score(X_te4, y_te4))\n",
    "print('Score de la validation croisée:', np.mean(cross_val_score(GNB4, X4, y4, cv=5)))"
   ]
  },
  {
   "attachments": {},
   "cell_type": "markdown",
   "metadata": {},
   "source": [
    "Nous obtenons des resultats plus ou moins acceptables mais moins bon que lorsque nous n'utilisions que 3 langues. Cela montre tout de même qu'il est possible d'augmenter le nombre de classe/texte."
   ]
  },
  {
   "cell_type": "code",
   "execution_count": 249,
   "metadata": {},
   "outputs": [
    {
     "data": {
      "text/plain": [
       "1"
      ]
     },
     "execution_count": 249,
     "metadata": {},
     "output_type": "execute_result"
    }
   ],
   "source": [
    "import os\n",
    "os.system('jupyter nbconvert --to html yourNotebook.ipynb')"
   ]
  },
  {
   "cell_type": "code",
   "execution_count": null,
   "metadata": {},
   "outputs": [],
   "source": []
  }
 ],
 "metadata": {
  "kernelspec": {
   "display_name": "Python 3 (ipykernel)",
   "language": "python",
   "name": "python3"
  },
  "language_info": {
   "codemirror_mode": {
    "name": "ipython",
    "version": 3
   },
   "file_extension": ".py",
   "mimetype": "text/x-python",
   "name": "python",
   "nbconvert_exporter": "python",
   "pygments_lexer": "ipython3",
   "version": "3.11.1"
  },
  "vscode": {
   "interpreter": {
    "hash": "af4e638795b21ff41be554461978cb85852865393299241f52f59551dff1579b"
   }
  }
 },
 "nbformat": 4,
 "nbformat_minor": 2
}
